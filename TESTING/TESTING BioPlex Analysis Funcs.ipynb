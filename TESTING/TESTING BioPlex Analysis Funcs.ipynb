{
 "cells": [
  {
   "cell_type": "code",
   "execution_count": 9,
   "metadata": {},
   "outputs": [
    {
     "data": {
      "text/html": [
       "<style>.container { width:100% !important; }</style>"
      ],
      "text/plain": [
       "<IPython.core.display.HTML object>"
      ]
     },
     "metadata": {},
     "output_type": "display_data"
    }
   ],
   "source": [
    "from IPython.core.display import display, HTML\n",
    "display(HTML(\"<style>.container { width:100% !important; }</style>\"))"
   ]
  },
  {
   "cell_type": "code",
   "execution_count": 10,
   "metadata": {},
   "outputs": [],
   "source": [
    "import warnings\n",
    "warnings.filterwarnings('ignore')\n",
    "import os"
   ]
  },
  {
   "cell_type": "code",
   "execution_count": 11,
   "metadata": {},
   "outputs": [],
   "source": [
    "os.chdir('/home/rv76/CCB/BioPlexPy/')\n",
    "\n",
    "# data import funcs\n",
    "from BioPlexPy.data_import_funcs import getBioPlex\n",
    "from BioPlexPy.data_import_funcs import getCorum"
   ]
  },
  {
   "cell_type": "markdown",
   "metadata": {},
   "source": [
    "## [0] Environment Setup\n",
    "\n",
    "setup for running \n",
    "- created virtual environment in conda \n",
    "> conda create -n CCB_BioPlexPy python=3.7\n",
    "- installed **pandas**\n",
    "> conda install -c anaconda pandas\n",
    "- installed **requests**\n",
    "> conda install -c anaconda requests\n",
    "- installed **anndata**\n",
    "> conda install anndata -c bioconda\n",
    "- installed **jupyter notebook**\n",
    "> conda install -c conda-forge notebook\n",
    "- installed **networkx**\n",
    "> pip install networkx[default]\n",
    "- installed **biopython**\n",
    "> conda install -c conda-forge biopython"
   ]
  },
  {
   "cell_type": "markdown",
   "metadata": {},
   "source": [
    "## (done) [1] *Function* to convert BioPlex PPIs into a graph data structure"
   ]
  },
  {
   "cell_type": "code",
   "execution_count": 4,
   "metadata": {},
   "outputs": [],
   "source": [
    "'''\n",
    "import networkx as nx\n",
    "import pandas as pd\n",
    "\n",
    "def bioplex2graph(bp_PPI_df):\n",
    "    '''\n",
    "    Convert BioPlex PPIs into a graph.\n",
    "    \n",
    "    This function converts representation of BioPlex PPIs into a graph data structure\n",
    "    representation of BioPlex PPIs in a NetworkX object from NetworkX. \n",
    "\n",
    "    Parameters\n",
    "    ----------\n",
    "    DataFrame of PPIs : Pandas DataFrame\n",
    "\n",
    "    Returns\n",
    "    -------\n",
    "    NetworkX graph\n",
    "        A NetworkX graph with Nodes = Uniprot Gene Symbols and Edges = interactions.\n",
    "\n",
    "    Examples\n",
    "    --------\n",
    "    >>> bp_293t_df = getBioPlex('293T', '3.0') # (1) Obtain the latest version of the 293T PPI network\n",
    "    >>> bp_293t_G = bioplex2graph(bp_293t_df) # (2) Turn the data into a graph\n",
    "    '''\n",
    "    # add isoform columns for Uniprot source & Uniprot target\n",
    "    bp_PPI_df.loc[:,'isoformA'] = bp_PPI_df.UniprotA\n",
    "    bp_PPI_df.loc[:,'isoformB'] = bp_PPI_df.UniprotB\n",
    "\n",
    "    # reconstruct UniprotA/UniprotB columns without '-' isoform id\n",
    "    UniprotA_new = []\n",
    "    UniprotB_new = []\n",
    "    for UniprotA, UniprotB in zip(bp_PPI_df.UniprotA, bp_PPI_df.UniprotB):\n",
    "\n",
    "        if '-' in UniprotA:\n",
    "            UniprotA_new.append(UniprotA.split('-')[0])\n",
    "        else:\n",
    "            UniprotA_new.append(UniprotA)\n",
    "\n",
    "        if '-' in UniprotB:\n",
    "            UniprotB_new.append(UniprotB.split('-')[0])\n",
    "        else:\n",
    "            UniprotB_new.append(UniprotB)\n",
    "\n",
    "    # update columns for Uniprot source & Uniprot target to exclude isoform '-' ID\n",
    "    bp_PPI_df.loc[:,'UniprotA'] = UniprotA_new\n",
    "    bp_PPI_df.loc[:,'UniprotB'] = UniprotB_new\n",
    "    \n",
    "    # construct graph from BioPlex PPI data\n",
    "    bp_G = nx.DiGraph()\n",
    "    for source, target, pW, pNI, pInt in zip(bp_PPI_df.UniprotA, bp_PPI_df.UniprotB, bp_PPI_df.pW, bp_PPI_df.pNI, bp_PPI_df.pInt):\n",
    "        bp_G.add_edge(source, target, pW=pW, pNI=pNI, pInt=pInt)\n",
    "        \n",
    "    # get mapping uniprot -> entrez & store as node attribute\n",
    "    uniprot_entrez_dict = {}\n",
    "    for uniprot_A, entrez_A in zip(bp_PPI_df.UniprotA, bp_PPI_df.GeneA):\n",
    "        uniprot_entrez_dict[uniprot_A] = entrez_A\n",
    "    for uniprot_B, entrez_B in zip(bp_PPI_df.UniprotB, bp_PPI_df.GeneB):\n",
    "        uniprot_entrez_dict[uniprot_B] = entrez_B\n",
    "\n",
    "    for node_i in bp_G.nodes():\n",
    "        bp_G.nodes[node_i][\"entrezid\"] = uniprot_entrez_dict[node_i]\n",
    "\n",
    "    # get mapping uniprot -> symbol & store as node attribute\n",
    "    uniprot_symbol_dict = {}\n",
    "    for uniprot_A, symbol_A in zip(bp_PPI_df.UniprotA, bp_PPI_df.SymbolA):\n",
    "        uniprot_symbol_dict[uniprot_A] = symbol_A\n",
    "    for uniprot_B, symbol_B in zip(bp_PPI_df.UniprotB, bp_PPI_df.SymbolB):\n",
    "        uniprot_symbol_dict[uniprot_B] = symbol_B\n",
    "\n",
    "    for node_i in bp_G.nodes():\n",
    "        bp_G.nodes[node_i][\"symbol\"] = uniprot_symbol_dict[node_i]\n",
    "\n",
    "    # get mapping uniprot -> isoform & store as node attribute\n",
    "    uniprot_isoform_dict = {}\n",
    "    for uniprot_A, isoform_A in zip(bp_PPI_df.UniprotA, bp_PPI_df.isoformA):\n",
    "        uniprot_isoform_dict[uniprot_A] = isoform_A\n",
    "    for uniprot_B, isoform_B in zip(bp_PPI_df.UniprotB, bp_PPI_df.isoformB):\n",
    "        uniprot_isoform_dict[uniprot_B] = isoform_B\n",
    "\n",
    "    for node_i in bp_G.nodes():\n",
    "        bp_G.nodes[node_i][\"isoform\"] = uniprot_isoform_dict[node_i]\n",
    "        \n",
    "    # get set of baits & store a bait boolean as node attribute if node is a bait True & False otherwise\n",
    "    bp_i_baits = set(bp_PPI_df.UniprotA)\n",
    "    for node_i in bp_G.nodes():\n",
    "        if node_i in bp_i_baits:\n",
    "            bp_G.nodes[node_i][\"bait\"] = True\n",
    "        else:\n",
    "            bp_G.nodes[node_i][\"bait\"] = False\n",
    "    \n",
    "    return bp_G\n",
    "'''"
   ]
  },
  {
   "cell_type": "code",
   "execution_count": 12,
   "metadata": {},
   "outputs": [],
   "source": [
    "import networkx as nx\n",
    "import pandas as pd\n",
    "\n",
    "def bioplex2graph(bp_PPI_df):\n",
    "    '''\n",
    "    Convert BioPlex PPIs into a graph.\n",
    "    \n",
    "    This function converts representation of BioPlex PPIs into a \n",
    "    graph data structure representation of BioPlex PPIs in a NetworkX \n",
    "    object from NetworkX. \n",
    "\n",
    "    Parameters\n",
    "    ----------\n",
    "    DataFrame of PPIs : Pandas DataFrame\n",
    "\n",
    "    Returns\n",
    "    -------\n",
    "    NetworkX graph\n",
    "        A NetworkX graph with Nodes = Uniprot Gene Symbols \n",
    "        and Edges = interactions.\n",
    "\n",
    "    Examples\n",
    "    --------\n",
    "    # (1) Obtain the latest version of the 293T PPI network\n",
    "    >>> bp_293t_df = getBioPlex('293T', '3.0')\n",
    "    # (2) Turn the data into a graph\n",
    "    >>> bp_293t_G = bioplex2graph(bp_293t_df) \n",
    "    '''\n",
    "    # add isoform columns for Uniprot source & Uniprot target\n",
    "    bp_PPI_df.loc[:,'isoformA'] = bp_PPI_df.UniprotA\n",
    "    bp_PPI_df.loc[:,'isoformB'] = bp_PPI_df.UniprotB\n",
    "\n",
    "    # reconstruct UniprotA/UniprotB columns without '-' isoform id\n",
    "    UniprotA_new = []\n",
    "    UniprotB_new = []\n",
    "    for UniprotA, UniprotB in zip(bp_PPI_df.UniprotA, bp_PPI_df.UniprotB):\n",
    "\n",
    "        if '-' in UniprotA:\n",
    "            UniprotA_new.append(UniprotA.split('-')[0])\n",
    "        else:\n",
    "            UniprotA_new.append(UniprotA)\n",
    "\n",
    "        if '-' in UniprotB:\n",
    "            UniprotB_new.append(UniprotB.split('-')[0])\n",
    "        else:\n",
    "            UniprotB_new.append(UniprotB)\n",
    "\n",
    "    # update columns for Uniprot source \n",
    "    # & Uniprot target to exclude isoform '-' ID\n",
    "    bp_PPI_df.loc[:,'UniprotA'] = UniprotA_new\n",
    "    bp_PPI_df.loc[:,'UniprotB'] = UniprotB_new\n",
    "    \n",
    "    # construct graph from BioPlex PPI data\n",
    "    bp_G = nx.DiGraph()\n",
    "    for source, target, pW, pNI, pInt in zip(bp_PPI_df.UniprotA, \n",
    "            bp_PPI_df.UniprotB, bp_PPI_df.pW, bp_PPI_df.pNI, bp_PPI_df.pInt):\n",
    "        bp_G.add_edge(source, target, pW=pW, pNI=pNI, pInt=pInt)\n",
    "        \n",
    "    # get mapping uniprot -> entrez & store as node attribute\n",
    "    uniprot_entrez_dict = {}\n",
    "    for uniprot_A, entrez_A in zip(bp_PPI_df.UniprotA, bp_PPI_df.GeneA):\n",
    "        uniprot_entrez_dict[uniprot_A] = entrez_A\n",
    "    for uniprot_B, entrez_B in zip(bp_PPI_df.UniprotB, bp_PPI_df.GeneB):\n",
    "        uniprot_entrez_dict[uniprot_B] = entrez_B\n",
    "\n",
    "    for node_i in bp_G.nodes():\n",
    "        bp_G.nodes[node_i][\"entrezid\"] = uniprot_entrez_dict[node_i]\n",
    "\n",
    "    # get mapping uniprot -> symbol & store as node attribute\n",
    "    uniprot_symbol_dict = {}\n",
    "    for uniprot_A, symbol_A in zip(bp_PPI_df.UniprotA, bp_PPI_df.SymbolA):\n",
    "        uniprot_symbol_dict[uniprot_A] = symbol_A\n",
    "    for uniprot_B, symbol_B in zip(bp_PPI_df.UniprotB, bp_PPI_df.SymbolB):\n",
    "        uniprot_symbol_dict[uniprot_B] = symbol_B\n",
    "\n",
    "    for node_i in bp_G.nodes():\n",
    "        bp_G.nodes[node_i][\"symbol\"] = uniprot_symbol_dict[node_i]\n",
    "\n",
    "    # get mapping uniprot -> isoform & store as node attribute\n",
    "    uniprot_isoform_dict = {}\n",
    "    for uniprot_A, isoform_A in zip(bp_PPI_df.UniprotA, bp_PPI_df.isoformA):\n",
    "        uniprot_isoform_dict[uniprot_A] = isoform_A\n",
    "    for uniprot_B, isoform_B in zip(bp_PPI_df.UniprotB, bp_PPI_df.isoformB):\n",
    "        uniprot_isoform_dict[uniprot_B] = isoform_B\n",
    "\n",
    "    for node_i in bp_G.nodes():\n",
    "        bp_G.nodes[node_i][\"isoform\"] = uniprot_isoform_dict[node_i]\n",
    "        \n",
    "    # get set of baits & store a bait boolean as node attribute \n",
    "    # if node is a bait True & False otherwise\n",
    "    bp_i_baits = set(bp_PPI_df.UniprotA)\n",
    "    for node_i in bp_G.nodes():\n",
    "        if node_i in bp_i_baits:\n",
    "            bp_G.nodes[node_i][\"bait\"] = True\n",
    "        else:\n",
    "            bp_G.nodes[node_i][\"bait\"] = False\n",
    "    \n",
    "    return bp_G"
   ]
  },
  {
   "cell_type": "code",
   "execution_count": 13,
   "metadata": {},
   "outputs": [],
   "source": [
    "bp_293t_df = getBioPlex('293T', '3.0')\n",
    "bp_293t_G = bioplex2graph(bp_293t_df)"
   ]
  },
  {
   "cell_type": "code",
   "execution_count": 14,
   "metadata": {},
   "outputs": [
    {
     "data": {
      "text/html": [
       "<div>\n",
       "<style scoped>\n",
       "    .dataframe tbody tr th:only-of-type {\n",
       "        vertical-align: middle;\n",
       "    }\n",
       "\n",
       "    .dataframe tbody tr th {\n",
       "        vertical-align: top;\n",
       "    }\n",
       "\n",
       "    .dataframe thead th {\n",
       "        text-align: right;\n",
       "    }\n",
       "</style>\n",
       "<table border=\"1\" class=\"dataframe\">\n",
       "  <thead>\n",
       "    <tr style=\"text-align: right;\">\n",
       "      <th></th>\n",
       "      <th>GeneA</th>\n",
       "      <th>GeneB</th>\n",
       "      <th>UniprotA</th>\n",
       "      <th>UniprotB</th>\n",
       "      <th>SymbolA</th>\n",
       "      <th>SymbolB</th>\n",
       "      <th>pW</th>\n",
       "      <th>pNI</th>\n",
       "      <th>pInt</th>\n",
       "      <th>isoformA</th>\n",
       "      <th>isoformB</th>\n",
       "    </tr>\n",
       "  </thead>\n",
       "  <tbody>\n",
       "    <tr>\n",
       "      <th>0</th>\n",
       "      <td>100</td>\n",
       "      <td>728378</td>\n",
       "      <td>P00813</td>\n",
       "      <td>A5A3E0</td>\n",
       "      <td>ADA</td>\n",
       "      <td>POTEF</td>\n",
       "      <td>6.881844e-10</td>\n",
       "      <td>0.000118</td>\n",
       "      <td>0.999882</td>\n",
       "      <td>P00813</td>\n",
       "      <td>A5A3E0</td>\n",
       "    </tr>\n",
       "    <tr>\n",
       "      <th>1</th>\n",
       "      <td>222389</td>\n",
       "      <td>6137</td>\n",
       "      <td>Q8N7W2</td>\n",
       "      <td>P26373</td>\n",
       "      <td>BEND7</td>\n",
       "      <td>RPL13</td>\n",
       "      <td>1.340380e-18</td>\n",
       "      <td>0.225664</td>\n",
       "      <td>0.774336</td>\n",
       "      <td>Q8N7W2-2</td>\n",
       "      <td>P26373</td>\n",
       "    </tr>\n",
       "    <tr>\n",
       "      <th>2</th>\n",
       "      <td>222389</td>\n",
       "      <td>5928</td>\n",
       "      <td>Q8N7W2</td>\n",
       "      <td>Q09028</td>\n",
       "      <td>BEND7</td>\n",
       "      <td>RBBP4</td>\n",
       "      <td>7.221401e-21</td>\n",
       "      <td>0.000064</td>\n",
       "      <td>0.999936</td>\n",
       "      <td>Q8N7W2-2</td>\n",
       "      <td>Q09028-3</td>\n",
       "    </tr>\n",
       "    <tr>\n",
       "      <th>3</th>\n",
       "      <td>222389</td>\n",
       "      <td>25873</td>\n",
       "      <td>Q8N7W2</td>\n",
       "      <td>Q9Y3U8</td>\n",
       "      <td>BEND7</td>\n",
       "      <td>RPL36</td>\n",
       "      <td>7.058372e-17</td>\n",
       "      <td>0.128183</td>\n",
       "      <td>0.871817</td>\n",
       "      <td>Q8N7W2-2</td>\n",
       "      <td>Q9Y3U8</td>\n",
       "    </tr>\n",
       "    <tr>\n",
       "      <th>4</th>\n",
       "      <td>222389</td>\n",
       "      <td>6124</td>\n",
       "      <td>Q8N7W2</td>\n",
       "      <td>P36578</td>\n",
       "      <td>BEND7</td>\n",
       "      <td>RPL4</td>\n",
       "      <td>1.632313e-22</td>\n",
       "      <td>0.200638</td>\n",
       "      <td>0.799362</td>\n",
       "      <td>Q8N7W2-2</td>\n",
       "      <td>P36578</td>\n",
       "    </tr>\n",
       "  </tbody>\n",
       "</table>\n",
       "</div>"
      ],
      "text/plain": [
       "    GeneA   GeneB UniprotA UniprotB SymbolA SymbolB            pW       pNI  \\\n",
       "0     100  728378   P00813   A5A3E0     ADA   POTEF  6.881844e-10  0.000118   \n",
       "1  222389    6137   Q8N7W2   P26373   BEND7   RPL13  1.340380e-18  0.225664   \n",
       "2  222389    5928   Q8N7W2   Q09028   BEND7   RBBP4  7.221401e-21  0.000064   \n",
       "3  222389   25873   Q8N7W2   Q9Y3U8   BEND7   RPL36  7.058372e-17  0.128183   \n",
       "4  222389    6124   Q8N7W2   P36578   BEND7    RPL4  1.632313e-22  0.200638   \n",
       "\n",
       "       pInt  isoformA  isoformB  \n",
       "0  0.999882    P00813    A5A3E0  \n",
       "1  0.774336  Q8N7W2-2    P26373  \n",
       "2  0.999936  Q8N7W2-2  Q09028-3  \n",
       "3  0.871817  Q8N7W2-2    Q9Y3U8  \n",
       "4  0.799362  Q8N7W2-2    P36578  "
      ]
     },
     "execution_count": 14,
     "metadata": {},
     "output_type": "execute_result"
    }
   ],
   "source": [
    "bp_293t_df.head()"
   ]
  },
  {
   "cell_type": "markdown",
   "metadata": {},
   "source": [
    "construct network from list of edges, then iterate to add attributes (check runtime)"
   ]
  },
  {
   "cell_type": "markdown",
   "metadata": {},
   "source": [
    "Nodes"
   ]
  },
  {
   "cell_type": "code",
   "execution_count": 15,
   "metadata": {},
   "outputs": [
    {
     "data": {
      "text/plain": [
       "13689"
      ]
     },
     "execution_count": 15,
     "metadata": {},
     "output_type": "execute_result"
    }
   ],
   "source": [
    "len(bp_293t_G.nodes()) # number of nodes"
   ]
  },
  {
   "cell_type": "code",
   "execution_count": 16,
   "metadata": {
    "scrolled": true
   },
   "outputs": [
    {
     "data": {
      "text/plain": [
       "['P00813', 'A5A3E0', 'Q8N7W2', 'P26373', 'Q09028']"
      ]
     },
     "execution_count": 16,
     "metadata": {},
     "output_type": "execute_result"
    }
   ],
   "source": [
    "list(bp_293t_G.nodes())[0:5]"
   ]
  },
  {
   "cell_type": "code",
   "execution_count": 17,
   "metadata": {},
   "outputs": [
    {
     "data": {
      "text/plain": [
       "{'entrezid': 100, 'symbol': 'ADA', 'isoform': 'P00813', 'bait': True}"
      ]
     },
     "execution_count": 17,
     "metadata": {},
     "output_type": "execute_result"
    }
   ],
   "source": [
    "bp_293t_G.nodes['P00813']"
   ]
  },
  {
   "cell_type": "code",
   "execution_count": 18,
   "metadata": {},
   "outputs": [
    {
     "data": {
      "text/plain": [
       "{'entrezid': 222389, 'symbol': 'BEND7', 'isoform': 'Q8N7W2-2', 'bait': True}"
      ]
     },
     "execution_count": 18,
     "metadata": {},
     "output_type": "execute_result"
    }
   ],
   "source": [
    "bp_293t_G.nodes['Q8N7W2']"
   ]
  },
  {
   "cell_type": "markdown",
   "metadata": {},
   "source": [
    "Edges"
   ]
  },
  {
   "cell_type": "code",
   "execution_count": 19,
   "metadata": {},
   "outputs": [
    {
     "data": {
      "text/plain": [
       "115868"
      ]
     },
     "execution_count": 19,
     "metadata": {},
     "output_type": "execute_result"
    }
   ],
   "source": [
    "len(bp_293t_G.edges()) # number of edges"
   ]
  },
  {
   "cell_type": "code",
   "execution_count": 20,
   "metadata": {},
   "outputs": [
    {
     "data": {
      "text/plain": [
       "[('P00813', 'A5A3E0'),\n",
       " ('Q8N7W2', 'P26373'),\n",
       " ('Q8N7W2', 'Q09028'),\n",
       " ('Q8N7W2', 'Q9Y3U8'),\n",
       " ('Q8N7W2', 'P36578')]"
      ]
     },
     "execution_count": 20,
     "metadata": {},
     "output_type": "execute_result"
    }
   ],
   "source": [
    "list(bp_293t_G.edges())[0:5]"
   ]
  },
  {
   "cell_type": "code",
   "execution_count": 21,
   "metadata": {},
   "outputs": [
    {
     "data": {
      "text/plain": [
       "{'pW': 6.881843799526549e-10,\n",
       " 'pNI': 0.000117635665707004,\n",
       " 'pInt': 0.9998823636461089}"
      ]
     },
     "execution_count": 21,
     "metadata": {},
     "output_type": "execute_result"
    }
   ],
   "source": [
    "bp_293t_G.get_edge_data('P00813', 'A5A3E0')"
   ]
  },
  {
   "cell_type": "markdown",
   "metadata": {},
   "source": [
    "Algorithms on Network"
   ]
  },
  {
   "cell_type": "markdown",
   "metadata": {},
   "source": [
    "pagerank"
   ]
  },
  {
   "cell_type": "code",
   "execution_count": 22,
   "metadata": {},
   "outputs": [],
   "source": [
    "pr = nx.pagerank(bp_293t_G, alpha=0.8)\n",
    "pr = pd.Series(pr)\n",
    "pr.sort_values(ascending = False, inplace = True)"
   ]
  },
  {
   "cell_type": "code",
   "execution_count": 23,
   "metadata": {},
   "outputs": [
    {
     "data": {
      "text/plain": [
       "P11142    0.002610\n",
       "P11021    0.002168\n",
       "Q04917    0.001840\n",
       "O14556    0.001527\n",
       "P0CG47    0.001471\n",
       "            ...   \n",
       "Q8TB92    0.000039\n",
       "P07355    0.000039\n",
       "Q53F39    0.000039\n",
       "Q96HL8    0.000039\n",
       "P00813    0.000039\n",
       "Length: 13689, dtype: float64"
      ]
     },
     "execution_count": 23,
     "metadata": {},
     "output_type": "execute_result"
    }
   ],
   "source": [
    "pr"
   ]
  },
  {
   "cell_type": "markdown",
   "metadata": {},
   "source": [
    "## (done) [2] *Function* that returns matching edges (PPI data) for a given CORUM complex as a sub-graph"
   ]
  },
  {
   "cell_type": "code",
   "execution_count": 5,
   "metadata": {},
   "outputs": [],
   "source": [
    "'''\n",
    "import numpy as np\n",
    "\n",
    "def get_PPI_network_for_complex(bp_PPI_G, Corum_DF, Complex_ID):\n",
    "    '''\n",
    "    Retrieve Network of BioPlex (AP-MS) PPIs for a CORUM complex.\n",
    "    \n",
    "    This function returns a subgraph of PPIs identified through AP-MS\n",
    "    between the proteins in a specified CORUM complex.\n",
    "\n",
    "    Parameters\n",
    "    ----------\n",
    "    Network of PPIs : NetworkX graph\n",
    "    DataFrame of CORUM complexes : Pandas DataFrame\n",
    "    Corum Complex ID: int\n",
    "\n",
    "    Returns\n",
    "    -------\n",
    "    NetworkX Graph\n",
    "        A subgraph induced by the proteins in a CORUM complex from the BioPlex network used as input.\n",
    "\n",
    "    Examples\n",
    "    --------\n",
    "    >>> bp_293t_df = getBioPlex('293T', '3.0') # (1) Obtain the latest version of the 293T PPI network\n",
    "    >>> bp_293t_G = bioplex2graph(bp_293t_df) # (2) Obtain NetworkX graph representation of 293T PPI network\n",
    "    >>> Corum_DF = getCorum('core', 'Human') # (3) Obtain CORUM complexes\n",
    "    >>> ING2_bp_293t_G = get_PPI_network_for_complex(bp_293t_G, Corum_DF, 2851) # (4) Get AP-MS interactions as subgraph for a specified protein complex using PPI data\n",
    "    '''\n",
    "    # store gene UNIPROT IDs that belong to this complex in a list\n",
    "    genes_in_complex_i = Corum_DF[Corum_DF.ComplexID == Complex_ID].loc[:,'subunits(UniProt IDs)'].values[0].split(';')\n",
    "    \n",
    "    # get subgraph induced by the subset of nodes in this CORUM complex\n",
    "    bp_complex_i_G = bp_PPI_G.subgraph(genes_in_complex_i)\n",
    "    \n",
    "    return bp_complex_i_G\n",
    "'''"
   ]
  },
  {
   "cell_type": "code",
   "execution_count": 24,
   "metadata": {},
   "outputs": [],
   "source": [
    "import numpy as np\n",
    "\n",
    "def get_PPI_network_for_complex(bp_PPI_G, Corum_DF, Complex_ID):\n",
    "    '''\n",
    "    Retrieve Network of BioPlex (AP-MS) PPIs for a CORUM complex.\n",
    "    \n",
    "    This function returns a subgraph of PPIs identified through AP-MS\n",
    "    between the proteins in a specified CORUM complex.\n",
    "\n",
    "    Parameters\n",
    "    ----------\n",
    "    Network of PPIs : NetworkX graph\n",
    "    DataFrame of CORUM complexes : Pandas DataFrame\n",
    "    Corum Complex ID: int\n",
    "\n",
    "    Returns\n",
    "    -------\n",
    "    NetworkX Graph\n",
    "        A subgraph induced by the proteins in a CORUM complex \n",
    "        from the BioPlex network used as input.\n",
    "\n",
    "    Examples\n",
    "    --------\n",
    "    # (1) Obtain the latest version of the 293T PPI network\n",
    "    >>> bp_293t_df = getBioPlex('293T', '3.0')\n",
    "    # (2) Obtain NetworkX graph representation of 293T PPI network\n",
    "    >>> bp_293t_G = bioplex2graph(bp_293t_df)\n",
    "    # (3) Obtain CORUM complexes\n",
    "    >>> Corum_DF = getCorum('core', 'Human')\n",
    "    # (4) Get AP-MS interactions as subgraph for a specified \n",
    "          protein complex using PPI data\n",
    "    >>> ING2_bp_293t_G = get_PPI_network_for_complex(bp_293t_G, Corum_DF, 2851)\n",
    "    '''\n",
    "    # store gene UNIPROT IDs that belong to this complex in a list\n",
    "    genes_in_complex_i = (Corum_DF[Corum_DF.ComplexID == Complex_ID].loc[:,\n",
    "                                'subunits(UniProt IDs)'].values[0].split(';'))\n",
    "    \n",
    "    # get subgraph induced by the subset of nodes in this CORUM complex\n",
    "    bp_complex_i_G = bp_PPI_G.subgraph(genes_in_complex_i)\n",
    "    \n",
    "    return bp_complex_i_G"
   ]
  },
  {
   "cell_type": "code",
   "execution_count": 25,
   "metadata": {},
   "outputs": [],
   "source": [
    "bp_293t_df = getBioPlex('293T', '3.0')\n",
    "bp_293t_G = bioplex2graph(bp_293t_df)\n",
    "Corum_DF = getCorum('core', 'Human')"
   ]
  },
  {
   "cell_type": "markdown",
   "metadata": {},
   "source": [
    "**ING2** complex from HEK293T cell line PPI data version 3.0"
   ]
  },
  {
   "cell_type": "code",
   "execution_count": 26,
   "metadata": {
    "scrolled": true
   },
   "outputs": [
    {
     "data": {
      "text/plain": [
       "51"
      ]
     },
     "execution_count": 26,
     "metadata": {},
     "output_type": "execute_result"
    }
   ],
   "source": [
    "ING2_bp_293t_G = get_PPI_network_for_complex(bp_293t_G, Corum_DF, 2851)\n",
    "len(list(ING2_bp_293t_G.edges))"
   ]
  },
  {
   "cell_type": "markdown",
   "metadata": {},
   "source": [
    "**BCOR** complex from HEK293T cell line PPI data version 3.0"
   ]
  },
  {
   "cell_type": "code",
   "execution_count": 27,
   "metadata": {},
   "outputs": [
    {
     "data": {
      "text/plain": [
       "14"
      ]
     },
     "execution_count": 27,
     "metadata": {},
     "output_type": "execute_result"
    }
   ],
   "source": [
    "BCOR_bp_293t_G = get_PPI_network_for_complex(bp_293t_G, Corum_DF, 1178)\n",
    "len(list(BCOR_bp_293t_G.edges))"
   ]
  },
  {
   "cell_type": "markdown",
   "metadata": {},
   "source": [
    "## (done) [3] *Function* that takes an AP-MS graph (NetworkX) and returns a dataframe of PPIs (Edges)"
   ]
  },
  {
   "cell_type": "markdown",
   "metadata": {},
   "source": [
    "*Note* - lose info about which node is a BAIT and which node is a PREY"
   ]
  },
  {
   "cell_type": "code",
   "execution_count": 19,
   "metadata": {},
   "outputs": [],
   "source": [
    "'''\n",
    "def get_DataFrame_from_PPI_network(bp_PPI_G):\n",
    "    '''\n",
    "    Convert Network of BioPlex (AP-MS) PPIs into DataFrame of BioPlex interaction Network.\n",
    "    \n",
    "    This function returns a DataFrame of PPIs (identified through AP-MS) represented as a graph.\n",
    "\n",
    "    Parameters\n",
    "    ----------\n",
    "    Network of PPIs : NetworkX graph\n",
    "\n",
    "    Returns\n",
    "    -------\n",
    "    Pandas DataFrame\n",
    "        A DataFrame of edges (AP-MS interactions) from a network.\n",
    "\n",
    "    Examples\n",
    "    --------\n",
    "    >>> bp_293t_df = getBioPlex('293T', '3.0') # (1) Obtain the latest version of the 293T PPI network\n",
    "    >>> bp_293t_G = bioplex2graph(bp_293t_df) # (2) Obtain NetworkX graph representation of 293T PPI network\n",
    "    >>> Corum_DF = getCorum('core', 'Human') # (3) Obtain CORUM complexes\n",
    "    >>> ING2_bp_293t_G = get_PPI_network_for_complex(bp_293t_G, Corum_DF, 2851) # (4) Get AP-MS interactions as subgraph for a specified protein complex using PPI data\n",
    "    >>> ING2_bp_293t_df = get_DataFrame_from_PPI_network(ING2_bp_293t_G) # (5) Convert ING2 AP-MS network into DataFrame w/ each row corresponding to an edge\n",
    "    '''\n",
    "    # get list of edges in network\n",
    "    PPI_edge_list = list(bp_PPI_G.edges)\n",
    "\n",
    "    # make node_A and node_B columns for both UNIPROT & SYMBOLS\n",
    "    uniprotA_list = []\n",
    "    uniprotB_list = []\n",
    "    symbolA_list = []\n",
    "    symbolB_list = []\n",
    "\n",
    "    # make columns for calcs detected for each edge\n",
    "    pW_list = []\n",
    "    pNI_list = []\n",
    "    pInt_list = []\n",
    "\n",
    "    # iterate through each edge to store data for each row of DataFrame\n",
    "    for edge_i in PPI_edge_list:\n",
    "\n",
    "        nodeA, nodeB = edge_i\n",
    "\n",
    "        # nodes are labeled with UNIPROT\n",
    "        uniprotA_list.append(nodeA)\n",
    "        uniprotB_list.append(nodeB)\n",
    "\n",
    "        # get gene SYMBOL\n",
    "        symbolA_list.append(bp_PPI_G.nodes[nodeA]['symbol'])\n",
    "        symbolB_list.append(bp_PPI_G.nodes[nodeB]['symbol'])\n",
    "\n",
    "        # get AP-MS calculations\n",
    "        pW_list.append(bp_PPI_G.edges[edge_i]['pW'])\n",
    "        pNI_list.append(bp_PPI_G.edges[edge_i]['pNI'])\n",
    "        pInt_list.append(bp_PPI_G.edges[edge_i]['pInt'])\n",
    "\n",
    "    # convert lists into cols of DataFrame\n",
    "    bp_complex_i_df = pd.DataFrame()\n",
    "    bp_complex_i_df.loc[:,'UniprotA'] = uniprotA_list\n",
    "    bp_complex_i_df.loc[:,'UniprotB'] = uniprotB_list\n",
    "    bp_complex_i_df.loc[:,'SymbolA'] = symbolA_list\n",
    "    bp_complex_i_df.loc[:,'SymbolB'] = symbolB_list\n",
    "    bp_complex_i_df.loc[:,'pW'] = pW_list\n",
    "    bp_complex_i_df.loc[:,'pNI'] = pNI_list\n",
    "    bp_complex_i_df.loc[:,'pInt'] = pInt_list\n",
    "    \n",
    "    return bp_complex_i_df\n",
    "'''"
   ]
  },
  {
   "cell_type": "code",
   "execution_count": 28,
   "metadata": {},
   "outputs": [],
   "source": [
    "def get_DataFrame_from_PPI_network(bp_PPI_G):\n",
    "    '''\n",
    "    Convert Network of BioPlex (AP-MS) PPIs into DataFrame of BioPlex \n",
    "    interaction Network.\n",
    "    \n",
    "    This function returns a DataFrame of PPIs (identified through AP-MS) \n",
    "    represented as a graph.\n",
    "\n",
    "    Parameters\n",
    "    ----------\n",
    "    Network of PPIs : NetworkX graph\n",
    "\n",
    "    Returns\n",
    "    -------\n",
    "    Pandas DataFrame\n",
    "        A DataFrame of edges (AP-MS interactions) from a network.\n",
    "\n",
    "    Examples\n",
    "    --------\n",
    "    # (1) Obtain the latest version of the 293T PPI network\n",
    "    >>> bp_293t_df = getBioPlex('293T', '3.0')\n",
    "    # (2) Obtain NetworkX graph representation of 293T PPI network\n",
    "    >>> bp_293t_G = bioplex2graph(bp_293t_df)\n",
    "    # (3) Obtain CORUM complexes\n",
    "    >>> Corum_DF = getCorum('core', 'Human')\n",
    "    # (4) Get AP-MS interactions as subgraph for a specified \n",
    "          protein complex using PPI data\n",
    "    >>> ING2_bp_293t_G = get_PPI_network_for_complex(bp_293t_G, Corum_DF, 2851)\n",
    "    # (5) Convert ING2 AP-MS network into DataFrame w/ each \n",
    "          row corresponding to an edge\n",
    "    >>> ING2_bp_293t_df = get_DataFrame_from_PPI_network(ING2_bp_293t_G)\n",
    "    '''\n",
    "    # get list of edges in network\n",
    "    PPI_edge_list = list(bp_PPI_G.edges)\n",
    "\n",
    "    # make node_A and node_B columns for both UNIPROT & SYMBOLS\n",
    "    uniprotA_list = []\n",
    "    uniprotB_list = []\n",
    "    symbolA_list = []\n",
    "    symbolB_list = []\n",
    "\n",
    "    # make columns for calcs detected for each edge\n",
    "    pW_list = []\n",
    "    pNI_list = []\n",
    "    pInt_list = []\n",
    "\n",
    "    # iterate through each edge to store data for each row of DataFrame\n",
    "    for edge_i in PPI_edge_list:\n",
    "\n",
    "        nodeA, nodeB = edge_i\n",
    "\n",
    "        # nodes are labeled with UNIPROT\n",
    "        uniprotA_list.append(nodeA)\n",
    "        uniprotB_list.append(nodeB)\n",
    "\n",
    "        # get gene SYMBOL\n",
    "        symbolA_list.append(bp_PPI_G.nodes[nodeA]['symbol'])\n",
    "        symbolB_list.append(bp_PPI_G.nodes[nodeB]['symbol'])\n",
    "\n",
    "        # get AP-MS calculations\n",
    "        pW_list.append(bp_PPI_G.edges[edge_i]['pW'])\n",
    "        pNI_list.append(bp_PPI_G.edges[edge_i]['pNI'])\n",
    "        pInt_list.append(bp_PPI_G.edges[edge_i]['pInt'])\n",
    "\n",
    "    # convert lists into cols of DataFrame\n",
    "    bp_complex_i_df = pd.DataFrame()\n",
    "    bp_complex_i_df.loc[:,'UniprotA'] = uniprotA_list\n",
    "    bp_complex_i_df.loc[:,'UniprotB'] = uniprotB_list\n",
    "    bp_complex_i_df.loc[:,'SymbolA'] = symbolA_list\n",
    "    bp_complex_i_df.loc[:,'SymbolB'] = symbolB_list\n",
    "    bp_complex_i_df.loc[:,'pW'] = pW_list\n",
    "    bp_complex_i_df.loc[:,'pNI'] = pNI_list\n",
    "    bp_complex_i_df.loc[:,'pInt'] = pInt_list\n",
    "    \n",
    "    return bp_complex_i_df"
   ]
  },
  {
   "cell_type": "code",
   "execution_count": 29,
   "metadata": {},
   "outputs": [],
   "source": [
    "bp_293t_df = getBioPlex('293T', '3.0')\n",
    "bp_293t_G = bioplex2graph(bp_293t_df)\n",
    "Corum_DF = getCorum('core', 'Human')"
   ]
  },
  {
   "cell_type": "markdown",
   "metadata": {},
   "source": [
    "**ING2** complex from HEK293T cell line PPI data version 3.0"
   ]
  },
  {
   "cell_type": "code",
   "execution_count": 30,
   "metadata": {},
   "outputs": [],
   "source": [
    "ING2_bp_293t_G = get_PPI_network_for_complex(bp_293t_G, Corum_DF, 2851)\n",
    "ING2_bp_293t_df = get_DataFrame_from_PPI_network(ING2_bp_293t_G)"
   ]
  },
  {
   "cell_type": "code",
   "execution_count": 31,
   "metadata": {},
   "outputs": [
    {
     "data": {
      "text/html": [
       "<div>\n",
       "<style scoped>\n",
       "    .dataframe tbody tr th:only-of-type {\n",
       "        vertical-align: middle;\n",
       "    }\n",
       "\n",
       "    .dataframe tbody tr th {\n",
       "        vertical-align: top;\n",
       "    }\n",
       "\n",
       "    .dataframe thead th {\n",
       "        text-align: right;\n",
       "    }\n",
       "</style>\n",
       "<table border=\"1\" class=\"dataframe\">\n",
       "  <thead>\n",
       "    <tr style=\"text-align: right;\">\n",
       "      <th></th>\n",
       "      <th>UniprotA</th>\n",
       "      <th>UniprotB</th>\n",
       "      <th>SymbolA</th>\n",
       "      <th>SymbolB</th>\n",
       "      <th>pW</th>\n",
       "      <th>pNI</th>\n",
       "      <th>pInt</th>\n",
       "    </tr>\n",
       "  </thead>\n",
       "  <tbody>\n",
       "    <tr>\n",
       "      <th>0</th>\n",
       "      <td>Q9HCU9</td>\n",
       "      <td>Q16576</td>\n",
       "      <td>BRMS1</td>\n",
       "      <td>RBBP7</td>\n",
       "      <td>3.046638e-30</td>\n",
       "      <td>0.000001</td>\n",
       "      <td>0.999999</td>\n",
       "    </tr>\n",
       "    <tr>\n",
       "      <th>1</th>\n",
       "      <td>Q9HCU9</td>\n",
       "      <td>Q09028</td>\n",
       "      <td>BRMS1</td>\n",
       "      <td>RBBP4</td>\n",
       "      <td>4.715386e-29</td>\n",
       "      <td>0.000138</td>\n",
       "      <td>0.999862</td>\n",
       "    </tr>\n",
       "    <tr>\n",
       "      <th>2</th>\n",
       "      <td>Q9HCU9</td>\n",
       "      <td>Q13547</td>\n",
       "      <td>BRMS1</td>\n",
       "      <td>HDAC1</td>\n",
       "      <td>1.821999e-21</td>\n",
       "      <td>0.000021</td>\n",
       "      <td>0.999979</td>\n",
       "    </tr>\n",
       "    <tr>\n",
       "      <th>3</th>\n",
       "      <td>Q09028</td>\n",
       "      <td>O75446</td>\n",
       "      <td>RBBP4</td>\n",
       "      <td>SAP30</td>\n",
       "      <td>3.703916e-21</td>\n",
       "      <td>0.000023</td>\n",
       "      <td>0.999977</td>\n",
       "    </tr>\n",
       "    <tr>\n",
       "      <th>4</th>\n",
       "      <td>Q09028</td>\n",
       "      <td>Q13547</td>\n",
       "      <td>RBBP4</td>\n",
       "      <td>HDAC1</td>\n",
       "      <td>5.003673e-30</td>\n",
       "      <td>0.000005</td>\n",
       "      <td>0.999995</td>\n",
       "    </tr>\n",
       "  </tbody>\n",
       "</table>\n",
       "</div>"
      ],
      "text/plain": [
       "  UniprotA UniprotB SymbolA SymbolB            pW       pNI      pInt\n",
       "0   Q9HCU9   Q16576   BRMS1   RBBP7  3.046638e-30  0.000001  0.999999\n",
       "1   Q9HCU9   Q09028   BRMS1   RBBP4  4.715386e-29  0.000138  0.999862\n",
       "2   Q9HCU9   Q13547   BRMS1   HDAC1  1.821999e-21  0.000021  0.999979\n",
       "3   Q09028   O75446   RBBP4   SAP30  3.703916e-21  0.000023  0.999977\n",
       "4   Q09028   Q13547   RBBP4   HDAC1  5.003673e-30  0.000005  0.999995"
      ]
     },
     "execution_count": 31,
     "metadata": {},
     "output_type": "execute_result"
    }
   ],
   "source": [
    "ING2_bp_293t_df.head()"
   ]
  },
  {
   "cell_type": "code",
   "execution_count": 32,
   "metadata": {},
   "outputs": [
    {
     "data": {
      "text/plain": [
       "(51, 7)"
      ]
     },
     "execution_count": 32,
     "metadata": {},
     "output_type": "execute_result"
    }
   ],
   "source": [
    "ING2_bp_293t_df.shape"
   ]
  },
  {
   "cell_type": "markdown",
   "metadata": {},
   "source": [
    "**BCOR** complex from HEK293T cell line PPI data version 3.0"
   ]
  },
  {
   "cell_type": "code",
   "execution_count": 33,
   "metadata": {},
   "outputs": [],
   "source": [
    "BCOR_bp_293t_G = get_PPI_network_for_complex(bp_293t_G, Corum_DF, 1178)\n",
    "BCOR_bp_293t_df = get_DataFrame_from_PPI_network(BCOR_bp_293t_G)"
   ]
  },
  {
   "cell_type": "code",
   "execution_count": 34,
   "metadata": {},
   "outputs": [
    {
     "data": {
      "text/html": [
       "<div>\n",
       "<style scoped>\n",
       "    .dataframe tbody tr th:only-of-type {\n",
       "        vertical-align: middle;\n",
       "    }\n",
       "\n",
       "    .dataframe tbody tr th {\n",
       "        vertical-align: top;\n",
       "    }\n",
       "\n",
       "    .dataframe thead th {\n",
       "        text-align: right;\n",
       "    }\n",
       "</style>\n",
       "<table border=\"1\" class=\"dataframe\">\n",
       "  <thead>\n",
       "    <tr style=\"text-align: right;\">\n",
       "      <th></th>\n",
       "      <th>UniprotA</th>\n",
       "      <th>UniprotB</th>\n",
       "      <th>SymbolA</th>\n",
       "      <th>SymbolB</th>\n",
       "      <th>pW</th>\n",
       "      <th>pNI</th>\n",
       "      <th>pInt</th>\n",
       "    </tr>\n",
       "  </thead>\n",
       "  <tbody>\n",
       "    <tr>\n",
       "      <th>0</th>\n",
       "      <td>Q9BSM1</td>\n",
       "      <td>Q8NHM5</td>\n",
       "      <td>PCGF1</td>\n",
       "      <td>KDM2B</td>\n",
       "      <td>3.189895e-09</td>\n",
       "      <td>1.691454e-07</td>\n",
       "      <td>1.000000</td>\n",
       "    </tr>\n",
       "    <tr>\n",
       "      <th>1</th>\n",
       "      <td>Q9BSM1</td>\n",
       "      <td>Q6W2J9</td>\n",
       "      <td>PCGF1</td>\n",
       "      <td>BCOR</td>\n",
       "      <td>1.342302e-14</td>\n",
       "      <td>2.582672e-06</td>\n",
       "      <td>0.999997</td>\n",
       "    </tr>\n",
       "    <tr>\n",
       "      <th>2</th>\n",
       "      <td>Q9BSM1</td>\n",
       "      <td>Q8N488</td>\n",
       "      <td>PCGF1</td>\n",
       "      <td>RYBP</td>\n",
       "      <td>7.760669e-19</td>\n",
       "      <td>3.110777e-11</td>\n",
       "      <td>1.000000</td>\n",
       "    </tr>\n",
       "    <tr>\n",
       "      <th>3</th>\n",
       "      <td>Q9BSM1</td>\n",
       "      <td>Q99496</td>\n",
       "      <td>PCGF1</td>\n",
       "      <td>RNF2</td>\n",
       "      <td>2.181103e-13</td>\n",
       "      <td>3.714136e-03</td>\n",
       "      <td>0.996286</td>\n",
       "    </tr>\n",
       "    <tr>\n",
       "      <th>4</th>\n",
       "      <td>Q9BSM1</td>\n",
       "      <td>Q06587</td>\n",
       "      <td>PCGF1</td>\n",
       "      <td>RING1</td>\n",
       "      <td>7.298679e-14</td>\n",
       "      <td>3.132373e-04</td>\n",
       "      <td>0.999687</td>\n",
       "    </tr>\n",
       "  </tbody>\n",
       "</table>\n",
       "</div>"
      ],
      "text/plain": [
       "  UniprotA UniprotB SymbolA SymbolB            pW           pNI      pInt\n",
       "0   Q9BSM1   Q8NHM5   PCGF1   KDM2B  3.189895e-09  1.691454e-07  1.000000\n",
       "1   Q9BSM1   Q6W2J9   PCGF1    BCOR  1.342302e-14  2.582672e-06  0.999997\n",
       "2   Q9BSM1   Q8N488   PCGF1    RYBP  7.760669e-19  3.110777e-11  1.000000\n",
       "3   Q9BSM1   Q99496   PCGF1    RNF2  2.181103e-13  3.714136e-03  0.996286\n",
       "4   Q9BSM1   Q06587   PCGF1   RING1  7.298679e-14  3.132373e-04  0.999687"
      ]
     },
     "execution_count": 34,
     "metadata": {},
     "output_type": "execute_result"
    }
   ],
   "source": [
    "BCOR_bp_293t_df.head()"
   ]
  },
  {
   "cell_type": "code",
   "execution_count": 35,
   "metadata": {},
   "outputs": [
    {
     "data": {
      "text/plain": [
       "(14, 7)"
      ]
     },
     "execution_count": 35,
     "metadata": {},
     "output_type": "execute_result"
    }
   ],
   "source": [
    "BCOR_bp_293t_df.shape"
   ]
  },
  {
   "cell_type": "markdown",
   "metadata": {},
   "source": [
    "## (done) [4] *Function* that returns the proportion of interactions between proteins in a CORUM complex detected by AP-MS"
   ]
  },
  {
   "cell_type": "code",
   "execution_count": 27,
   "metadata": {},
   "outputs": [],
   "source": [
    "'''\n",
    "import numpy as np\n",
    "import networkx as nx\n",
    "import itertools\n",
    "\n",
    "def get_prop_edges_in_complex_identified(bp_PPI_G, Corum_DF, Complex_ID):\n",
    "    '''\n",
    "    Calculates proportion of all possible edges identified from BioPlex (AP-MS) PPIs for a CORUM complex.\n",
    "    \n",
    "    This function returns the proportion of all possible PPIs identified through AP-MS\n",
    "    between the proteins in a specified CORUM complex.\n",
    "\n",
    "    Parameters\n",
    "    ----------\n",
    "    DataFrame of PPIs : Pandas DataFrame\n",
    "    DataFrame of CORUM complexes : Pandas DataFrame\n",
    "    Corum Complex ID: int\n",
    "\n",
    "    Returns\n",
    "    -------\n",
    "    Float\n",
    "        The proportion of interactions between all proteins in CORUM complex identified through AP-MS PPI data\n",
    "\n",
    "    Examples\n",
    "    --------\n",
    "    >>> bp_293t_df = getBioPlex('293T', '3.0') # (1) Obtain the latest version of the 293T PPI network\n",
    "    >>> bp_293t_G = bioplex2graph(bp_293t_df) # (2) Obtain NetworkX graph representation of 293T PPI network\n",
    "    >>> Corum_DF = getCorum('core', 'Human') # (3) Obtain CORUM complexes\n",
    "    >>> get_prop_edges_in_complex_identfied(bp_293t_G, Corum_DF, 2851) # (4) Get proportion of interactions identified for a specified CORUM complex using PPI data\n",
    "    '''\n",
    "    # store gene UNIPROT IDs that belong to this complex in a list\n",
    "    genes_in_complex_i = Corum_DF[Corum_DF.ComplexID == Complex_ID].loc[:,'subunits(UniProt IDs)'].values[0].split(';')\n",
    "    \n",
    "    # get subgraph induced by the subset of nodes in this CORUM complex\n",
    "    bp_complex_i_G = bp_PPI_G.subgraph(genes_in_complex_i)\n",
    "        \n",
    "    # create a complete graph from the nodes of complex graph (all possible interactions between proteins)\n",
    "    bp_complex_i_G_complete = nx.Graph()\n",
    "    bp_complex_i_G_complete.add_nodes_from(genes_in_complex_i)\n",
    "    bp_complex_i_G_complete.add_edges_from(itertools.combinations(genes_in_complex_i, 2))\n",
    "    \n",
    "    # calculate proportion of interactions between proteins in complex identified through AP-MS\n",
    "    prop_edges_identified = float(len(list(bp_complex_i_G.edges)))/float(len(list(bp_complex_i_G_complete.edges)))\n",
    "    \n",
    "    return round(prop_edges_identified, 3) # return proportion of edges ID'd through AP-MS, round to 3 decimal places\n",
    "'''"
   ]
  },
  {
   "cell_type": "code",
   "execution_count": 36,
   "metadata": {},
   "outputs": [],
   "source": [
    "import numpy as np\n",
    "import networkx as nx\n",
    "import itertools\n",
    "\n",
    "def get_prop_edges_in_complex_identified(bp_PPI_G, Corum_DF, Complex_ID):\n",
    "    '''\n",
    "    Calculates proportion of all possible edges identified from BioPlex (AP-MS) \n",
    "    PPIs for a CORUM complex.\n",
    "    \n",
    "    This function returns the proportion of all possible PPIs identified \n",
    "    through AP-MS between the proteins in a specified CORUM complex.\n",
    "\n",
    "    Parameters\n",
    "    ----------\n",
    "    DataFrame of PPIs : Pandas DataFrame\n",
    "    DataFrame of CORUM complexes : Pandas DataFrame\n",
    "    Corum Complex ID: int\n",
    "\n",
    "    Returns\n",
    "    -------\n",
    "    Float\n",
    "        The proportion of interactions between all proteins in CORUM complex \n",
    "        identified through AP-MS PPI data\n",
    "\n",
    "    Examples\n",
    "    --------\n",
    "    # (1) Obtain the latest version of the 293T PPI network\n",
    "    >>> bp_293t_df = getBioPlex('293T', '3.0')\n",
    "    # (2) Obtain NetworkX graph representation of 293T PPI network\n",
    "    >>> bp_293t_G = bioplex2graph(bp_293t_df)\n",
    "    # (3) Obtain CORUM complexes\n",
    "    >>> Corum_DF = getCorum('core', 'Human')\n",
    "    # (4) Get proportion of interactions identified for a specified \n",
    "          CORUM complex using PPI data\n",
    "    >>> get_prop_edges_in_complex_identfied(bp_293t_G, Corum_DF, 2851)\n",
    "    '''\n",
    "    # store gene UNIPROT IDs that belong to this complex in a list\n",
    "    genes_in_complex_i = (Corum_DF[Corum_DF.ComplexID == Complex_ID].loc[:,\n",
    "                                'subunits(UniProt IDs)'].values[0].split(';'))\n",
    "    \n",
    "    # get subgraph induced by the subset of nodes in this CORUM complex\n",
    "    bp_complex_i_G = bp_PPI_G.subgraph(genes_in_complex_i)\n",
    "        \n",
    "    # create a complete graph from the nodes of complex graph \n",
    "    # (all possible interactions between proteins)\n",
    "    bp_complex_i_G_complete = nx.Graph()\n",
    "    bp_complex_i_G_complete.add_nodes_from(genes_in_complex_i)\n",
    "    bp_complex_i_G_complete.add_edges_from(\n",
    "                    itertools.combinations(genes_in_complex_i, 2))\n",
    "    \n",
    "    # calculate proportion of interactions between proteins in complex \n",
    "    # identified through AP-MS\n",
    "    prop_edges_identified = (float(len(list(bp_complex_i_G.edges)))/\n",
    "                             float(len(list(bp_complex_i_G_complete.edges))))\n",
    "    \n",
    "    # return proportion of edges ID'd through AP-MS, round to 3 decimal places\n",
    "    return round(prop_edges_identified, 3)"
   ]
  },
  {
   "cell_type": "code",
   "execution_count": 37,
   "metadata": {},
   "outputs": [],
   "source": [
    "bp_293t_df = getBioPlex('293T', '3.0')\n",
    "bp_293t_G = bioplex2graph(bp_293t_df)\n",
    "Corum_DF = getCorum('core', 'Human')"
   ]
  },
  {
   "cell_type": "markdown",
   "metadata": {},
   "source": [
    "**ING2** complex from HEK293T cell line PPI data version 3.0"
   ]
  },
  {
   "cell_type": "code",
   "execution_count": 39,
   "metadata": {},
   "outputs": [
    {
     "data": {
      "text/plain": [
       "0.654"
      ]
     },
     "execution_count": 39,
     "metadata": {},
     "output_type": "execute_result"
    }
   ],
   "source": [
    "get_prop_edges_in_complex_identified(bp_293t_G, Corum_DF, 2851)"
   ]
  },
  {
   "cell_type": "markdown",
   "metadata": {},
   "source": [
    "**Arp2/3** complex from HEK293T cell line PPI data version 3.0"
   ]
  },
  {
   "cell_type": "code",
   "execution_count": 40,
   "metadata": {},
   "outputs": [
    {
     "data": {
      "text/plain": [
       "0.667"
      ]
     },
     "execution_count": 40,
     "metadata": {},
     "output_type": "execute_result"
    }
   ],
   "source": [
    "get_prop_edges_in_complex_identified(bp_293t_G, Corum_DF, 27)"
   ]
  },
  {
   "cell_type": "markdown",
   "metadata": {},
   "source": [
    "## [5] *Function* to run permutation test to test whether number of edges for CORUM complex PPI network is enriched for interactions"
   ]
  },
  {
   "cell_type": "code",
   "execution_count": 105,
   "metadata": {},
   "outputs": [],
   "source": [
    "'''\n",
    "import numpy as np\n",
    "import networkx as nx\n",
    "import itertools\n",
    "import random\n",
    "\n",
    "def permutation_test_for_CORUM_complex(bp_PPI_G, Corum_DF, Complex_ID, num_perms = 1000):\n",
    "    '''\n",
    "    Run permutation test to check for enrichment of BioPlex (AP-MS) PPIs for a given CORUM complex.\n",
    "\n",
    "    This function returns a p-value after running a permutation test by 1. taking the number of \n",
    "    proteins in the specified CORUM complex (N), 2. choosing N random proteins from the Graph generated by \n",
    "    all of the PPI data (G), 3. calculating the number of edges in the Subgraph (S) induced by N random \n",
    "    proteins (with the same proportion of baits (+/- 10%) as the CORUM complex) and storing this value (E_i), \n",
    "    4. repeating steps 1-3 num_perms times to create a null distribution, 5. calculating the number of \n",
    "    edges between N proteins in the CORUM complex (E), 6. returning a p-value by calculating the proportion\n",
    "    of values [E_1, E_2, ... , E_num_perms] that are greater than or equal to E.\n",
    "\n",
    "    Parameters\n",
    "    ----------\n",
    "    Network of PPIs : NetworkX graph\n",
    "    DataFrame of CORUM complexes : Pandas DataFrame\n",
    "    Corum Complex ID: int\n",
    "    Number of Permutations: int\n",
    "\n",
    "    Returns\n",
    "    -------\n",
    "    Float\n",
    "        A p-value from a permutation test to check for enrichment of PPIs detected between proteins of CORUM complex\n",
    "\n",
    "    Examples\n",
    "    --------\n",
    "    >>> bp_293t_df = getBioPlex('293T', '3.0') # (1) Obtain the latest version of the 293T PPI network\n",
    "    >>> bp_293t_G = bioplex2graph(bp_293t_df) # (2) Obtain NetworkX graph representation of 293T PPI network\n",
    "    >>> Corum_DF = getCorum('core', 'Human') # (3) Obtain CORUM complexes\n",
    "    >>> permutation_test_for_CORUM_complex(bp_293t_G, Corum_DF, 27, 1000) # (4) Calculate p-value to check for enrichment of edges in Arp2/3 protein complex\n",
    "    '''\n",
    "    # store gene UNIPROT IDs that belong to this complex in a list\n",
    "    genes_in_complex_i = Corum_DF[Corum_DF.ComplexID == Complex_ID].loc[:,'subunits(UniProt IDs)'].values[0].split(';')\n",
    "    \n",
    "    # get subgraph induced by the subset of nodes in this CORUM complex\n",
    "    bp_complex_i_G = bp_PPI_G.subgraph(genes_in_complex_i)\n",
    "\n",
    "    # number of edges detected between proteins in this CORUM complex among PPI data\n",
    "    num_edges_identified_CORUM_complex = float(len(list(bp_complex_i_G.edges)))\n",
    "    \n",
    "    # if no edges detected in this complex, return an ERROR message\n",
    "    if num_edges_identified_CORUM_complex == 0.0:\n",
    "        print('ERROR: no edges detected in PPI data for this CORUM complex, p-value could not be computed.')\n",
    "    \n",
    "    # if at least 1 edge in CORUM complex, estimate p-value using permutation test\n",
    "    else:\n",
    "\n",
    "        # number of genes in CORUM complex (N genes)\n",
    "        num_genes_in_CORUM_complex = len(list(bp_complex_i_G.nodes))\n",
    "\n",
    "        # list of nodes in large network generated from PPI data\n",
    "        nodes_in_overall_PPI_network = list(bp_PPI_G.nodes)\n",
    "\n",
    "        # find number of baits in complex\n",
    "        bp_complex_i_baits_num = np.sum([bp_complex_i_G.nodes[node_i]['bait'] for node_i in bp_complex_i_G.nodes])\n",
    "        # find proportion of baits in complex\n",
    "        bp_complex_i_baits_prop = float(bp_complex_i_baits_num) / float(num_genes_in_CORUM_complex)\n",
    "\n",
    "        # list that will store number of edges detected in each subgraph\n",
    "        num_edges_random_subgraphs = []\n",
    "\n",
    "        # iterate through num_perms random subgraphs induced by N nodes\n",
    "        S_i = 0\n",
    "        while S_i < num_perms:\n",
    "\n",
    "            # choose N genes at random without replacement\n",
    "            N_rando_nodes_from_PPI_network = random.sample(nodes_in_overall_PPI_network, num_genes_in_CORUM_complex)\n",
    "\n",
    "            # get subgraph induced by random subset of nodes\n",
    "            bp_PPI_S = bp_PPI_G.subgraph(N_rando_nodes_from_PPI_network)\n",
    "\n",
    "            # check to see if nodes in subgraph have the same proportion of baits as the subgraph induced by the CORUM complex\n",
    "            bp_S_baits_num = np.sum([bp_PPI_S.nodes[node_i]['bait'] for node_i in bp_PPI_S.nodes])\n",
    "            bp_S_baits_prop = float(bp_S_baits_num) / float(num_genes_in_CORUM_complex)\n",
    "\n",
    "            # proportion of baits in CORUM complex & S are the same (+/- 10%)\n",
    "            if abs(bp_complex_i_baits_prop - bp_S_baits_prop) <= 0.1:\n",
    "\n",
    "                # calculate the number of edges detected within subgraph induced by random nodes\n",
    "                num_edges_S = float(len(list(bp_PPI_S.edges)))\n",
    "\n",
    "                # store in list that contains permutations\n",
    "                num_edges_random_subgraphs.append(num_edges_S)\n",
    "\n",
    "                # count this as a permutation\n",
    "                S_i += 1\n",
    "\n",
    "        # convert list to numpy array\n",
    "        num_edges_random_subgraphs = np.array(num_edges_random_subgraphs)\n",
    "\n",
    "        # calculate proportion of subgraphs that had more edges than edges detected in CORUM complex (p-val from permutation test)\n",
    "        p_val = float(np.sum(num_edges_random_subgraphs >= num_edges_identified_CORUM_complex) + 1.0) / (float(num_perms) + 1.0)\n",
    "\n",
    "        return p_val\n",
    "'''"
   ]
  },
  {
   "cell_type": "code",
   "execution_count": 41,
   "metadata": {},
   "outputs": [],
   "source": [
    "import numpy as np\n",
    "import networkx as nx\n",
    "import itertools\n",
    "import random\n",
    "\n",
    "def permutation_test_for_CORUM_complex(bp_PPI_G, Corum_DF, Complex_ID, \n",
    "                                       num_perms = 1000):\n",
    "    '''\n",
    "    Run permutation test to check for enrichment of BioPlex (AP-MS) PPIs \n",
    "    for a given CORUM complex.\n",
    "\n",
    "    This function returns a p-value after running a permutation test by \n",
    "    1. taking the number of proteins in the specified CORUM complex (N), \n",
    "    2. choosing N random proteins from the Graph generated by all of the \n",
    "       PPI data (G), \n",
    "    3. calculating the number of edges in the Subgraph (S) induced by N random \n",
    "       proteins (with the same proportion of baits (+/- 10%) as the CORUM \n",
    "       complex) \n",
    "       and storing this value (E_i), \n",
    "    4. repeating steps 1-3 num_perms times to create a null distribution, \n",
    "    5. calculating the number of edges between N proteins in the \n",
    "       CORUM complex (E), \n",
    "    6. returning a p-value by calculating the proportion of values \n",
    "       [E_1, E_2, ... , E_num_perms] that are greater than or equal to E.\n",
    "\n",
    "    Parameters\n",
    "    ----------\n",
    "    Network of PPIs : NetworkX graph\n",
    "    DataFrame of CORUM complexes : Pandas DataFrame\n",
    "    Corum Complex ID: int\n",
    "    Number of Permutations: int\n",
    "\n",
    "    Returns\n",
    "    -------\n",
    "    Float\n",
    "        A p-value from a permutation test to check for enrichment of PPIs \n",
    "        detected between proteins of CORUM complex\n",
    "\n",
    "    Examples\n",
    "    --------\n",
    "    # (1) Obtain the latest version of the 293T PPI network\n",
    "    >>> bp_293t_df = getBioPlex('293T', '3.0')\n",
    "    # (2) Obtain NetworkX graph representation of 293T PPI network\n",
    "    >>> bp_293t_G = bioplex2graph(bp_293t_df)\n",
    "    # (3) Obtain CORUM complexes\n",
    "    >>> Corum_DF = getCorum('core', 'Human')\n",
    "    # (4) Calculate p-value to check for enrichment of edges in \n",
    "    #     Arp2/3 protein complex\n",
    "    >>> permutation_test_for_CORUM_complex(bp_293t_G, Corum_DF, 27, 1000)\n",
    "    '''\n",
    "    # store gene UNIPROT IDs that belong to this complex in a list\n",
    "    genes_in_complex_i = (Corum_DF[Corum_DF.ComplexID == Complex_ID].loc[:,\n",
    "                                'subunits(UniProt IDs)'].values[0].split(';'))\n",
    "    \n",
    "    # get subgraph induced by the subset of nodes in this CORUM complex\n",
    "    bp_complex_i_G = bp_PPI_G.subgraph(genes_in_complex_i)\n",
    "\n",
    "    # number of edges detected between proteins in this CORUM \n",
    "    # complex among PPI data\n",
    "    num_edges_identified_CORUM_complex = float(len(list(bp_complex_i_G.edges)))\n",
    "    \n",
    "    # if no edges detected in this complex, return an ERROR message\n",
    "    if num_edges_identified_CORUM_complex == 0.0:\n",
    "        print('ERROR: no edges detected in PPI data for this CORUM complex, '\n",
    "              'p-value could not be computed.')\n",
    "    \n",
    "    # if at least 1 edge in CORUM complex, estimate p-value \n",
    "    # using permutation test\n",
    "    else:\n",
    "\n",
    "        # number of genes in CORUM complex (N genes)\n",
    "        num_genes_in_CORUM_complex = len(list(bp_complex_i_G.nodes))\n",
    "\n",
    "        # list of nodes in large network generated from PPI data\n",
    "        nodes_in_overall_PPI_network = list(bp_PPI_G.nodes)\n",
    "\n",
    "        # find number of baits in complex\n",
    "        bp_complex_i_baits_num = (np.sum([bp_complex_i_G.nodes[node_i]['bait'] \n",
    "                                          for node_i in bp_complex_i_G.nodes]))\n",
    "        # find proportion of baits in complex\n",
    "        bp_complex_i_baits_prop = (float(bp_complex_i_baits_num) / \n",
    "                                   float(num_genes_in_CORUM_complex))\n",
    "\n",
    "        # list that will store number of edges detected in each subgraph\n",
    "        num_edges_random_subgraphs = []\n",
    "\n",
    "        # iterate through num_perms random subgraphs induced by N nodes\n",
    "        S_i = 0\n",
    "        while S_i < num_perms:\n",
    "\n",
    "            # choose N genes at random without replacement\n",
    "            N_rando_nodes_from_PPI_network = random.sample(\n",
    "                nodes_in_overall_PPI_network, num_genes_in_CORUM_complex)\n",
    "\n",
    "            # get subgraph induced by random subset of nodes\n",
    "            bp_PPI_S = bp_PPI_G.subgraph(N_rando_nodes_from_PPI_network)\n",
    "\n",
    "            # check to see if nodes in subgraph have the same proportion of \n",
    "            # baits as the subgraph induced by the CORUM complex\n",
    "            bp_S_baits_num = np.sum(\n",
    "                [bp_PPI_S.nodes[node_i]['bait'] for node_i in bp_PPI_S.nodes])\n",
    "            bp_S_baits_prop = (float(bp_S_baits_num) / \n",
    "                               float(num_genes_in_CORUM_complex))\n",
    "\n",
    "            # proportion of baits in CORUM complex & S are the same (+/- 10%)\n",
    "            if abs(bp_complex_i_baits_prop - bp_S_baits_prop) <= 0.1:\n",
    "\n",
    "                # calculate the number of edges detected within \n",
    "                # subgraph induced by random nodes\n",
    "                num_edges_S = float(len(list(bp_PPI_S.edges)))\n",
    "\n",
    "                # store in list that contains permutations\n",
    "                num_edges_random_subgraphs.append(num_edges_S)\n",
    "\n",
    "                # count this as a permutation\n",
    "                S_i += 1\n",
    "\n",
    "        # convert list to numpy array\n",
    "        num_edges_random_subgraphs = np.array(num_edges_random_subgraphs)\n",
    "\n",
    "        # calculate proportion of subgraphs that had more edges than edges \n",
    "        # detected in CORUM complex (p-val from permutation test)\n",
    "        p_val = (float(np.sum(num_edges_random_subgraphs \n",
    "                                >= num_edges_identified_CORUM_complex) + 1.0) / \n",
    "                            (float(num_perms) + 1.0))\n",
    "        return p_val"
   ]
  },
  {
   "cell_type": "code",
   "execution_count": 42,
   "metadata": {},
   "outputs": [],
   "source": [
    "bp_PPI_df = getBioPlex('293T', '3.0')\n",
    "bp_PPI_G = bioplex2graph(bp_PPI_df)\n",
    "Corum_DF = getCorum('core', 'Human')\n",
    "Complex_ID = 2851"
   ]
  },
  {
   "cell_type": "code",
   "execution_count": 43,
   "metadata": {},
   "outputs": [
    {
     "data": {
      "text/plain": [
       "0.000999000999000999"
      ]
     },
     "execution_count": 43,
     "metadata": {},
     "output_type": "execute_result"
    }
   ],
   "source": [
    "permutation_test_for_CORUM_complex(bp_PPI_G, Corum_DF, Complex_ID, 1000)"
   ]
  },
  {
   "cell_type": "markdown",
   "metadata": {},
   "source": [
    "### Iterate through all CORUM complexes and run permutation test on each one using *PPI 293T v3* data"
   ]
  },
  {
   "cell_type": "code",
   "execution_count": 44,
   "metadata": {},
   "outputs": [
    {
     "data": {
      "text/html": [
       "<div>\n",
       "<style scoped>\n",
       "    .dataframe tbody tr th:only-of-type {\n",
       "        vertical-align: middle;\n",
       "    }\n",
       "\n",
       "    .dataframe tbody tr th {\n",
       "        vertical-align: top;\n",
       "    }\n",
       "\n",
       "    .dataframe thead th {\n",
       "        text-align: right;\n",
       "    }\n",
       "</style>\n",
       "<table border=\"1\" class=\"dataframe\">\n",
       "  <thead>\n",
       "    <tr style=\"text-align: right;\">\n",
       "      <th></th>\n",
       "      <th>GeneA</th>\n",
       "      <th>GeneB</th>\n",
       "      <th>UniprotA</th>\n",
       "      <th>UniprotB</th>\n",
       "      <th>SymbolA</th>\n",
       "      <th>SymbolB</th>\n",
       "      <th>pW</th>\n",
       "      <th>pNI</th>\n",
       "      <th>pInt</th>\n",
       "      <th>isoformA</th>\n",
       "      <th>isoformB</th>\n",
       "    </tr>\n",
       "  </thead>\n",
       "  <tbody>\n",
       "    <tr>\n",
       "      <th>0</th>\n",
       "      <td>100</td>\n",
       "      <td>728378</td>\n",
       "      <td>P00813</td>\n",
       "      <td>A5A3E0</td>\n",
       "      <td>ADA</td>\n",
       "      <td>POTEF</td>\n",
       "      <td>6.881844e-10</td>\n",
       "      <td>0.000118</td>\n",
       "      <td>0.999882</td>\n",
       "      <td>P00813</td>\n",
       "      <td>A5A3E0</td>\n",
       "    </tr>\n",
       "    <tr>\n",
       "      <th>1</th>\n",
       "      <td>222389</td>\n",
       "      <td>6137</td>\n",
       "      <td>Q8N7W2</td>\n",
       "      <td>P26373</td>\n",
       "      <td>BEND7</td>\n",
       "      <td>RPL13</td>\n",
       "      <td>1.340380e-18</td>\n",
       "      <td>0.225664</td>\n",
       "      <td>0.774336</td>\n",
       "      <td>Q8N7W2-2</td>\n",
       "      <td>P26373</td>\n",
       "    </tr>\n",
       "    <tr>\n",
       "      <th>2</th>\n",
       "      <td>222389</td>\n",
       "      <td>5928</td>\n",
       "      <td>Q8N7W2</td>\n",
       "      <td>Q09028</td>\n",
       "      <td>BEND7</td>\n",
       "      <td>RBBP4</td>\n",
       "      <td>7.221401e-21</td>\n",
       "      <td>0.000064</td>\n",
       "      <td>0.999936</td>\n",
       "      <td>Q8N7W2-2</td>\n",
       "      <td>Q09028-3</td>\n",
       "    </tr>\n",
       "    <tr>\n",
       "      <th>3</th>\n",
       "      <td>222389</td>\n",
       "      <td>25873</td>\n",
       "      <td>Q8N7W2</td>\n",
       "      <td>Q9Y3U8</td>\n",
       "      <td>BEND7</td>\n",
       "      <td>RPL36</td>\n",
       "      <td>7.058372e-17</td>\n",
       "      <td>0.128183</td>\n",
       "      <td>0.871817</td>\n",
       "      <td>Q8N7W2-2</td>\n",
       "      <td>Q9Y3U8</td>\n",
       "    </tr>\n",
       "    <tr>\n",
       "      <th>4</th>\n",
       "      <td>222389</td>\n",
       "      <td>6124</td>\n",
       "      <td>Q8N7W2</td>\n",
       "      <td>P36578</td>\n",
       "      <td>BEND7</td>\n",
       "      <td>RPL4</td>\n",
       "      <td>1.632313e-22</td>\n",
       "      <td>0.200638</td>\n",
       "      <td>0.799362</td>\n",
       "      <td>Q8N7W2-2</td>\n",
       "      <td>P36578</td>\n",
       "    </tr>\n",
       "  </tbody>\n",
       "</table>\n",
       "</div>"
      ],
      "text/plain": [
       "    GeneA   GeneB UniprotA UniprotB SymbolA SymbolB            pW       pNI  \\\n",
       "0     100  728378   P00813   A5A3E0     ADA   POTEF  6.881844e-10  0.000118   \n",
       "1  222389    6137   Q8N7W2   P26373   BEND7   RPL13  1.340380e-18  0.225664   \n",
       "2  222389    5928   Q8N7W2   Q09028   BEND7   RBBP4  7.221401e-21  0.000064   \n",
       "3  222389   25873   Q8N7W2   Q9Y3U8   BEND7   RPL36  7.058372e-17  0.128183   \n",
       "4  222389    6124   Q8N7W2   P36578   BEND7    RPL4  1.632313e-22  0.200638   \n",
       "\n",
       "       pInt  isoformA  isoformB  \n",
       "0  0.999882    P00813    A5A3E0  \n",
       "1  0.774336  Q8N7W2-2    P26373  \n",
       "2  0.999936  Q8N7W2-2  Q09028-3  \n",
       "3  0.871817  Q8N7W2-2    Q9Y3U8  \n",
       "4  0.799362  Q8N7W2-2    P36578  "
      ]
     },
     "execution_count": 44,
     "metadata": {},
     "output_type": "execute_result"
    }
   ],
   "source": [
    "bp_PPI_df.head()"
   ]
  },
  {
   "cell_type": "code",
   "execution_count": 45,
   "metadata": {},
   "outputs": [
    {
     "data": {
      "text/html": [
       "<div>\n",
       "<style scoped>\n",
       "    .dataframe tbody tr th:only-of-type {\n",
       "        vertical-align: middle;\n",
       "    }\n",
       "\n",
       "    .dataframe tbody tr th {\n",
       "        vertical-align: top;\n",
       "    }\n",
       "\n",
       "    .dataframe thead th {\n",
       "        text-align: right;\n",
       "    }\n",
       "</style>\n",
       "<table border=\"1\" class=\"dataframe\">\n",
       "  <thead>\n",
       "    <tr style=\"text-align: right;\">\n",
       "      <th></th>\n",
       "      <th>ComplexID</th>\n",
       "      <th>ComplexName</th>\n",
       "      <th>Organism</th>\n",
       "      <th>Synonyms</th>\n",
       "      <th>Cell line</th>\n",
       "      <th>subunits(UniProt IDs)</th>\n",
       "      <th>subunits(Entrez IDs)</th>\n",
       "      <th>Protein complex purification method</th>\n",
       "      <th>GO ID</th>\n",
       "      <th>GO description</th>\n",
       "      <th>FunCat ID</th>\n",
       "      <th>FunCat description</th>\n",
       "      <th>subunits(Gene name syn)</th>\n",
       "      <th>Complex comment</th>\n",
       "      <th>Disease comment</th>\n",
       "      <th>SWISSPROT organism</th>\n",
       "      <th>Subunits comment</th>\n",
       "      <th>subunits(Gene name)</th>\n",
       "      <th>PubMed ID</th>\n",
       "      <th>subunits(Protein name)</th>\n",
       "    </tr>\n",
       "  </thead>\n",
       "  <tbody>\n",
       "    <tr>\n",
       "      <th>0</th>\n",
       "      <td>1</td>\n",
       "      <td>BCL6-HDAC4 complex</td>\n",
       "      <td>Human</td>\n",
       "      <td>None</td>\n",
       "      <td>None</td>\n",
       "      <td>P41182;P56524</td>\n",
       "      <td>604;9759</td>\n",
       "      <td>MI:0007-anti tag coimmunoprecipitation</td>\n",
       "      <td>GO:0006265;GO:0045892;GO:0051276;GO:0030183;GO...</td>\n",
       "      <td>DNA topological change;negative regulation of ...</td>\n",
       "      <td>10.01.09.05;11.02.03.04.03;42.10.03;43.03.07.0...</td>\n",
       "      <td>DNA conformation modification (e.g. chromatin)...</td>\n",
       "      <td>BCL5 LAZ3 ZBTB27 ZNF51;KIAA0288</td>\n",
       "      <td>Transcriptional repression by BCL6 is thought ...</td>\n",
       "      <td>None</td>\n",
       "      <td>Homo sapiens (Human);Homo sapiens (Human)</td>\n",
       "      <td>None</td>\n",
       "      <td>BCL6;HDAC4</td>\n",
       "      <td>11929873</td>\n",
       "      <td>B-cell lymphoma 6 protein;Histone deacetylase 4</td>\n",
       "    </tr>\n",
       "    <tr>\n",
       "      <th>1</th>\n",
       "      <td>2</td>\n",
       "      <td>BCL6-HDAC5 complex</td>\n",
       "      <td>Human</td>\n",
       "      <td>None</td>\n",
       "      <td>None</td>\n",
       "      <td>P41182;Q9UQL6</td>\n",
       "      <td>604;10014</td>\n",
       "      <td>MI:0007-anti tag coimmunoprecipitation</td>\n",
       "      <td>GO:0006265;GO:0045892;GO:0051276;GO:0030183;GO...</td>\n",
       "      <td>DNA topological change;negative regulation of ...</td>\n",
       "      <td>10.01.09.05;11.02.03.04.03;42.10.03;43.03.07.0...</td>\n",
       "      <td>DNA conformation modification (e.g. chromatin)...</td>\n",
       "      <td>BCL5 LAZ3 ZBTB27 ZNF51;KIAA0600</td>\n",
       "      <td>Transcriptional repression by BCL6 is thought ...</td>\n",
       "      <td>None</td>\n",
       "      <td>Homo sapiens (Human);Homo sapiens (Human)</td>\n",
       "      <td>None</td>\n",
       "      <td>BCL6;HDAC5</td>\n",
       "      <td>11929873</td>\n",
       "      <td>B-cell lymphoma 6 protein;Histone deacetylase 5</td>\n",
       "    </tr>\n",
       "    <tr>\n",
       "      <th>2</th>\n",
       "      <td>3</td>\n",
       "      <td>BCL6-HDAC7 complex</td>\n",
       "      <td>Human</td>\n",
       "      <td>None</td>\n",
       "      <td>None</td>\n",
       "      <td>P41182;Q8WUI4</td>\n",
       "      <td>604;51564</td>\n",
       "      <td>MI:0007-anti tag coimmunoprecipitation</td>\n",
       "      <td>GO:0006265;GO:0045892;GO:0051276;GO:0030183;GO...</td>\n",
       "      <td>DNA topological change;negative regulation of ...</td>\n",
       "      <td>10.01.09.05;11.02.03.04.03;42.10.03;43.03.07.0...</td>\n",
       "      <td>DNA conformation modification (e.g. chromatin)...</td>\n",
       "      <td>BCL5 LAZ3 ZBTB27 ZNF51;HDAC7A</td>\n",
       "      <td>Transcriptional repression by BCL6 is thought ...</td>\n",
       "      <td>None</td>\n",
       "      <td>Homo sapiens (Human);Homo sapiens (Human)</td>\n",
       "      <td>None</td>\n",
       "      <td>BCL6;HDAC7</td>\n",
       "      <td>11929873</td>\n",
       "      <td>B-cell lymphoma 6 protein;Histone deacetylase 7</td>\n",
       "    </tr>\n",
       "  </tbody>\n",
       "</table>\n",
       "</div>"
      ],
      "text/plain": [
       "   ComplexID         ComplexName Organism Synonyms Cell line  \\\n",
       "0          1  BCL6-HDAC4 complex    Human     None      None   \n",
       "1          2  BCL6-HDAC5 complex    Human     None      None   \n",
       "2          3  BCL6-HDAC7 complex    Human     None      None   \n",
       "\n",
       "  subunits(UniProt IDs) subunits(Entrez IDs)  \\\n",
       "0         P41182;P56524             604;9759   \n",
       "1         P41182;Q9UQL6            604;10014   \n",
       "2         P41182;Q8WUI4            604;51564   \n",
       "\n",
       "      Protein complex purification method  \\\n",
       "0  MI:0007-anti tag coimmunoprecipitation   \n",
       "1  MI:0007-anti tag coimmunoprecipitation   \n",
       "2  MI:0007-anti tag coimmunoprecipitation   \n",
       "\n",
       "                                               GO ID  \\\n",
       "0  GO:0006265;GO:0045892;GO:0051276;GO:0030183;GO...   \n",
       "1  GO:0006265;GO:0045892;GO:0051276;GO:0030183;GO...   \n",
       "2  GO:0006265;GO:0045892;GO:0051276;GO:0030183;GO...   \n",
       "\n",
       "                                      GO description  \\\n",
       "0  DNA topological change;negative regulation of ...   \n",
       "1  DNA topological change;negative regulation of ...   \n",
       "2  DNA topological change;negative regulation of ...   \n",
       "\n",
       "                                           FunCat ID  \\\n",
       "0  10.01.09.05;11.02.03.04.03;42.10.03;43.03.07.0...   \n",
       "1  10.01.09.05;11.02.03.04.03;42.10.03;43.03.07.0...   \n",
       "2  10.01.09.05;11.02.03.04.03;42.10.03;43.03.07.0...   \n",
       "\n",
       "                                  FunCat description  \\\n",
       "0  DNA conformation modification (e.g. chromatin)...   \n",
       "1  DNA conformation modification (e.g. chromatin)...   \n",
       "2  DNA conformation modification (e.g. chromatin)...   \n",
       "\n",
       "           subunits(Gene name syn)  \\\n",
       "0  BCL5 LAZ3 ZBTB27 ZNF51;KIAA0288   \n",
       "1  BCL5 LAZ3 ZBTB27 ZNF51;KIAA0600   \n",
       "2    BCL5 LAZ3 ZBTB27 ZNF51;HDAC7A   \n",
       "\n",
       "                                     Complex comment Disease comment  \\\n",
       "0  Transcriptional repression by BCL6 is thought ...            None   \n",
       "1  Transcriptional repression by BCL6 is thought ...            None   \n",
       "2  Transcriptional repression by BCL6 is thought ...            None   \n",
       "\n",
       "                          SWISSPROT organism Subunits comment  \\\n",
       "0  Homo sapiens (Human);Homo sapiens (Human)             None   \n",
       "1  Homo sapiens (Human);Homo sapiens (Human)             None   \n",
       "2  Homo sapiens (Human);Homo sapiens (Human)             None   \n",
       "\n",
       "  subunits(Gene name)  PubMed ID  \\\n",
       "0          BCL6;HDAC4   11929873   \n",
       "1          BCL6;HDAC5   11929873   \n",
       "2          BCL6;HDAC7   11929873   \n",
       "\n",
       "                            subunits(Protein name)  \n",
       "0  B-cell lymphoma 6 protein;Histone deacetylase 4  \n",
       "1  B-cell lymphoma 6 protein;Histone deacetylase 5  \n",
       "2  B-cell lymphoma 6 protein;Histone deacetylase 7  "
      ]
     },
     "execution_count": 45,
     "metadata": {},
     "output_type": "execute_result"
    }
   ],
   "source": [
    "Corum_DF.head(n=3)"
   ]
  },
  {
   "cell_type": "code",
   "execution_count": 46,
   "metadata": {},
   "outputs": [
    {
     "data": {
      "text/plain": [
       "(2417, 20)"
      ]
     },
     "execution_count": 46,
     "metadata": {},
     "output_type": "execute_result"
    }
   ],
   "source": [
    "Corum_DF.shape"
   ]
  },
  {
   "cell_type": "code",
   "execution_count": 47,
   "metadata": {},
   "outputs": [
    {
     "name": "stdout",
     "output_type": "stream",
     "text": [
      "100\n",
      "200\n",
      "300\n",
      "400\n",
      "500\n",
      "600\n",
      "700\n",
      "800\n",
      "900\n",
      "1000\n",
      "1100\n",
      "1200\n",
      "1300\n",
      "1400\n",
      "1500\n",
      "1600\n",
      "1700\n",
      "1800\n",
      "1900\n",
      "2000\n",
      "2100\n",
      "2200\n",
      "2300\n",
      "2400\n"
     ]
    }
   ],
   "source": [
    "permutation_pvals_CORUM_complex_dict = {}\n",
    "\n",
    "# keep track of proportion of baits for each CORUM complex\n",
    "prop_baits_CORUM_complex_dict = {}\n",
    "\n",
    "# get set of baits\n",
    "bp_i_baits = set(bp_PPI_df.UniprotA)\n",
    "\n",
    "count_i = 0\n",
    "for CORUM_complex_ID in Corum_DF.ComplexID:\n",
    "    \n",
    "    # check to see if CORUM complex has >= 3 genes in it\n",
    "    genes_in_complex_i = Corum_DF[Corum_DF.ComplexID == CORUM_complex_ID].loc[:,'subunits(UniProt IDs)'].values[0].split(';')\n",
    "    if len(genes_in_complex_i) >= 3:\n",
    "        \n",
    "        # check to see that at least one of the genes was targeted as a bait\n",
    "        genes_as_baits_bool = np.array([gene_i in bp_i_baits for gene_i in genes_in_complex_i])\n",
    "        if np.sum(genes_as_baits_bool) >= 1:\n",
    "            \n",
    "            # check to see that CORUM complex has at least 1 edge\n",
    "            CORUM_complex_G = get_PPI_network_for_complex(bp_PPI_G, Corum_DF, CORUM_complex_ID)\n",
    "            if len(list(CORUM_complex_G.edges)) >= 1:\n",
    "\n",
    "                permutation_pvals_CORUM_complex_dict[CORUM_complex_ID] = permutation_test_for_CORUM_complex(bp_PPI_G, Corum_DF, CORUM_complex_ID, 100)\n",
    "                prop_baits_CORUM_complex_dict[CORUM_complex_ID] = float(sum(genes_as_baits_bool)) / float(len(genes_as_baits_bool))\n",
    "    \n",
    "    count_i += 1\n",
    "    if count_i % 100 == 0:\n",
    "        print(count_i)\n",
    "        \n",
    "permutation_pvals_CORUM_complex_series = pd.Series(permutation_pvals_CORUM_complex_dict)"
   ]
  },
  {
   "cell_type": "code",
   "execution_count": 48,
   "metadata": {
    "scrolled": true
   },
   "outputs": [
    {
     "data": {
      "text/plain": [
       "1023"
      ]
     },
     "execution_count": 48,
     "metadata": {},
     "output_type": "execute_result"
    }
   ],
   "source": [
    "len(permutation_pvals_CORUM_complex_series) # number of CORUM complexes actually tested"
   ]
  },
  {
   "cell_type": "markdown",
   "metadata": {},
   "source": [
    "Permutation test \"lags\" when the proportion of baits for a CORUM complex < 10%"
   ]
  },
  {
   "cell_type": "code",
   "execution_count": 49,
   "metadata": {},
   "outputs": [],
   "source": [
    "prop_baits_CORUM_complex_series = pd.Series(prop_baits_CORUM_complex_dict)"
   ]
  },
  {
   "cell_type": "code",
   "execution_count": 50,
   "metadata": {},
   "outputs": [
    {
     "data": {
      "text/plain": [
       "514     0.083333\n",
       "485     0.083333\n",
       "469     0.083333\n",
       "484     0.090909\n",
       "1737    0.125000\n",
       "1193    0.142857\n",
       "509     0.166667\n",
       "5177    0.181818\n",
       "7253    0.200000\n",
       "5877    0.200000\n",
       "dtype: float64"
      ]
     },
     "execution_count": 50,
     "metadata": {},
     "output_type": "execute_result"
    }
   ],
   "source": [
    "prop_baits_CORUM_complex_series.sort_values().head(n=10)"
   ]
  },
  {
   "cell_type": "code",
   "execution_count": 51,
   "metadata": {},
   "outputs": [],
   "source": [
    "import matplotlib.pyplot as plt"
   ]
  },
  {
   "cell_type": "code",
   "execution_count": 52,
   "metadata": {},
   "outputs": [],
   "source": [
    "plt.style.use('ggplot')\n",
    "plt.rcParams['lines.linewidth']=1.0\n",
    "plt.rcParams['axes.facecolor']='1.0'\n",
    "plt.rcParams['xtick.color']='black'\n",
    "plt.rcParams['axes.grid']=False\n",
    "plt.rcParams['axes.edgecolor']='black'\n",
    "plt.rcParams['grid.color']= '1.0'\n",
    "plt.rcParams.update({'font.size': 14})"
   ]
  },
  {
   "cell_type": "code",
   "execution_count": 53,
   "metadata": {},
   "outputs": [
    {
     "data": {
      "image/png": "[encoded data removed]",
      "text/plain": [
       "<Figure size 540x324 with 1 Axes>"
      ]
     },
     "metadata": {},
     "output_type": "display_data"
    }
   ],
   "source": [
    "fig, ax = plt.subplots()\n",
    "\n",
    "ax.hist(permutation_pvals_CORUM_complex_series, bins = 40, rwidth = 0.85, color = 'black')\n",
    "ax.set_yscale('log')\n",
    "\n",
    "ax.set_title('Distribution of p-vals from permutation test on every CORUM\\nHuman core complex w/ 293T v3 BioPlex interaction data ', fontsize = 12, color = 'k', pad = -15)\n",
    "ax.set_ylabel(f'Number of CORUM complexes\\n(N={len(permutation_pvals_CORUM_complex_series)})', fontsize = 12, color = 'k', labelpad = 1)\n",
    "ax.set_xlabel('p-val from permutation test' , fontsize = 12, color = 'k', labelpad = 1)\n",
    "\n",
    "ax.spines['right'].set_visible(False)\n",
    "ax.spines['top'].set_visible(False)\n",
    "ax.grid(False)\n",
    "ax.tick_params(labelcolor = 'k')\n",
    "ax.tick_params(axis='y', which='major', labelsize=12 , labelcolor = 'k')\n",
    "ax.tick_params(axis='x', which='major', labelsize=12 , labelcolor = 'k')\n",
    "\n",
    "fig = plt.gcf()\n",
    "fig.set_size_inches(7.5, 4.5)\n",
    "fig.tight_layout()\n",
    "\n",
    "plt.show()"
   ]
  },
  {
   "cell_type": "code",
   "execution_count": 54,
   "metadata": {},
   "outputs": [
    {
     "data": {
      "text/plain": [
       "12      0.009901\n",
       "5502    0.009901\n",
       "5513    0.009901\n",
       "5518    0.009901\n",
       "5531    0.009901\n",
       "dtype: float64"
      ]
     },
     "execution_count": 54,
     "metadata": {},
     "output_type": "execute_result"
    }
   ],
   "source": [
    "permutation_pvals_CORUM_complex_series.sort_values(ascending = True, inplace = True)\n",
    "permutation_pvals_CORUM_complex_series.head()"
   ]
  },
  {
   "cell_type": "code",
   "execution_count": 55,
   "metadata": {},
   "outputs": [
    {
     "data": {
      "text/plain": [
       "785     0.049505\n",
       "2529    0.059406\n",
       "7557    0.069307\n",
       "5613    0.089109\n",
       "5615    0.247525\n",
       "dtype: float64"
      ]
     },
     "execution_count": 55,
     "metadata": {},
     "output_type": "execute_result"
    }
   ],
   "source": [
    "permutation_pvals_CORUM_complex_series.tail()"
   ]
  },
  {
   "cell_type": "markdown",
   "metadata": {},
   "source": [
    "If we want to Bonferroni correct this, we have to increase the number of permutations per test!"
   ]
  },
  {
   "cell_type": "code",
   "execution_count": 56,
   "metadata": {},
   "outputs": [
    {
     "data": {
      "text/plain": [
       "0"
      ]
     },
     "execution_count": 56,
     "metadata": {},
     "output_type": "execute_result"
    }
   ],
   "source": [
    "sum(permutation_pvals_CORUM_complex_series < (0.05/float(permutation_pvals_CORUM_complex_series.shape[0]))) # number of complexes with sig. pvals at Bonferroni cut-off"
   ]
  },
  {
   "cell_type": "code",
   "execution_count": 57,
   "metadata": {},
   "outputs": [
    {
     "data": {
      "text/plain": [
       "True"
      ]
     },
     "execution_count": 57,
     "metadata": {},
     "output_type": "execute_result"
    }
   ],
   "source": [
    "(0.05/float(permutation_pvals_CORUM_complex_series.shape[0])) < permutation_pvals_CORUM_complex_series.values[0]"
   ]
  },
  {
   "cell_type": "code",
   "execution_count": null,
   "metadata": {},
   "outputs": [],
   "source": []
  }
 ],
 "metadata": {
  "kernelspec": {
   "display_name": "Python [conda env:CCB_BioPlexPy]",
   "language": "python",
   "name": "conda-env-CCB_BioPlexPy-py"
  },
  "language_info": {
   "codemirror_mode": {
    "name": "ipython",
    "version": 3
   },
   "file_extension": ".py",
   "mimetype": "text/x-python",
   "name": "python",
   "nbconvert_exporter": "python",
   "pygments_lexer": "ipython3",
   "version": "3.7.11"
  }
 },
 "nbformat": 4,
 "nbformat_minor": 2
}
