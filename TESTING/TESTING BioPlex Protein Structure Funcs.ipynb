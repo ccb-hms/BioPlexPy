{
 "cells": [
  {
   "cell_type": "code",
   "execution_count": 4,
   "metadata": {},
   "outputs": [
    {
     "data": {
      "text/html": [
       "<style>.container { width:100% !important; }</style>"
      ],
      "text/plain": [
       "<IPython.core.display.HTML object>"
      ]
     },
     "metadata": {},
     "output_type": "display_data"
    }
   ],
   "source": [
    "from IPython.core.display import display, HTML\n",
    "display(HTML(\"<style>.container { width:100% !important; }</style>\"))"
   ]
  },
  {
   "cell_type": "code",
   "execution_count": 34,
   "metadata": {},
   "outputs": [],
   "source": [
    "import warnings\n",
    "warnings.filterwarnings('ignore')"
   ]
  },
  {
   "cell_type": "code",
   "execution_count": 6,
   "metadata": {},
   "outputs": [],
   "source": [
    "# data import funcs\n",
    "from BioPlexPy.data_import_funcs import getCorum"
   ]
  },
  {
   "cell_type": "markdown",
   "metadata": {},
   "source": [
    "## [0] Environment Setup\n",
    "\n",
    "setup for running \n",
    "- created virtual environment in conda \n",
    "> conda create -n CCB_BioPlexPy python=3.7\n",
    "- installed **pandas**\n",
    "> conda install -c anaconda pandas\n",
    "- installed **requests**\n",
    "> conda install -c anaconda requests\n",
    "- installed **anndata**\n",
    "> conda install anndata -c bioconda\n",
    "- installed **jupyter notebook**\n",
    "> conda install -c conda-forge notebook\n",
    "- installed **networkx**\n",
    "> pip install networkx[default]\n",
    "- installed **biopython**\n",
    "> conda install -c conda-forge biopython\n",
    "- installed **nglview**\n",
    "\n",
    "> conda install nglview -c conda-forge\n",
    "\n",
    "> jupyter-nbextension enable nglview --py --sys-prefix\n",
    "\n",
    "> jupyter-nbextension enable --py --sys-prefix widgetsnbextension\n",
    "\n",
    "- installed **pypdb**\n",
    "> pip install pypdb"
   ]
  },
  {
   "cell_type": "code",
   "execution_count": 28,
   "metadata": {},
   "outputs": [
    {
     "name": "stderr",
     "output_type": "stream",
     "text": [
      "/home/rv76/anaconda2/envs/CCB_BioPlexPy/lib/python3.7/site-packages/ipykernel/ipkernel.py:283: DeprecationWarning: `should_run_async` will not call `transform_cell` automatically in the future. Please pass the result to `transformed_cell` argument and any exception that happen during thetransform in `preprocessing_exc_tuple` in IPython 7.17 and above.\n",
      "  and should_run_async(code)\n"
     ]
    }
   ],
   "source": [
    "import pandas as pd\n",
    "from pypdb import *\n",
    "import itertools\n",
    "from collections import Counter\n",
    "\n",
    "def CORUM_to_PDB(Corum_DF, Complex_ID):\n",
    "    '''\n",
    "    Retreive PDB ID for protein structre corresponding to a CORUM complex.\n",
    "    \n",
    "    This function takes a CORUM complex ID and maps the corresponding \n",
    "    UniProt IDs for the complex to a PDB ID.\n",
    "\n",
    "    Parameters\n",
    "    ----------\n",
    "    DataFrame of CORUM complexes : Pandas DataFrame\n",
    "    Corum Complex ID: int\n",
    "\n",
    "    Returns\n",
    "    -------\n",
    "    PDB ID for CORUM complex\n",
    "\n",
    "    Examples\n",
    "    --------\n",
    "    >>> Corum_DF = getCorum('core', 'Human') # (1) Obtain CORUM complexes\n",
    "    >>> PDB_ID_Arp_2_3 = CORUM_to_PDB(Corum_DF, 27) # (2) Get PDB ID for specified protein complex (Arp 2/3 complex ID: 17)\n",
    "    >>> PDB_ID_ING2 = CORUM_to_PDB(Corum_DF, 2851) # (3) Get PDB ID for specified protein complex (ING2 complex ID: 2851), demonstrates WARNINGS\n",
    "    '''\n",
    "    # get UniProt IDs for each protein in the CORUM complex\n",
    "    uniprot_IDs_complex_i = Corum_DF[Corum_DF.ComplexID == Complex_ID].loc[:,'subunits(UniProt IDs)'].values[0].split(';')\n",
    "    num_proteins_CORUM_complex_i = len(uniprot_IDs_complex_i)\n",
    "\n",
    "    # Map from CORUM complex subunits given as UniProt IDs \n",
    "    # via [SIFTS](https://www.ebi.ac.uk/pdbe/docs/sifts/quick.html) to PDB structures:\n",
    "    # \"A summary of the UniProt to PDB mappings showing the UniProt accession followed by a semicolon-separated list of PDB four letter codes.\"\n",
    "    uniprot_pdb_mapping_df = pd.read_csv(\"ftp://ftp.ebi.ac.uk/pub/databases/msd/sifts/flatfiles/csv/uniprot_pdb.csv.gz\", header = 1, sep = ',', compression = 'gzip')\n",
    "\n",
    "    # set UniProt IDs as index\n",
    "    uniprot_pdb_mapping_df.set_index('SP_PRIMARY', drop = True, inplace = True)\n",
    "\n",
    "    # convert col PDB semicolon-separated list into Python list\n",
    "    uniprot_pdb_mapping_df.loc[:,'PDB'] = [PDB_codes_i.split(';') for PDB_codes_i in uniprot_pdb_mapping_df.PDB]\n",
    "\n",
    "    # get PDB IDs that map to each UniProt ID\n",
    "    PDB_IDs_complex_i = []\n",
    "    for uniprot_ID_i_complex_i in uniprot_IDs_complex_i:\n",
    "\n",
    "        # check to see if UniProt ID exists in mapping\n",
    "        if uniprot_ID_i_complex_i in uniprot_pdb_mapping_df.index:\n",
    "\n",
    "            # append to list of PDB IDs, take ALL PDB IDs in mapped list\n",
    "            mapped_PDB_ID_i = uniprot_pdb_mapping_df.loc[uniprot_ID_i_complex_i,:].values[0]\n",
    "            PDB_IDs_complex_i.append(mapped_PDB_ID_i)\n",
    "\n",
    "        else:\n",
    "            print(f'WARNING: {uniprot_ID_i_complex_i} does not have any corresponding PDB IDs mapped.')\n",
    "\n",
    "    # check to see there are any PDB IDs that are present in all Uniprot - PDB mappings\n",
    "    PDB_IDs_complex_i = list(itertools.chain(*PDB_IDs_complex_i)) # flatten list of PDB IDs that mapped to UniProt IDs\n",
    "    # convert to uppercase\n",
    "    PDB_IDs_complex_i = [PDB_ID.upper() for PDB_ID in PDB_IDs_complex_i]\n",
    "    PDB_IDs_complex_i_count = pd.Series(Counter(PDB_IDs_complex_i))\n",
    "\n",
    "    # check if one PDB ID maps to all UniProt IDs\n",
    "    if sum(PDB_IDs_complex_i_count == len(uniprot_IDs_complex_i)) == 1:\n",
    "\n",
    "        # use this PDB ID for CORUM complex\n",
    "        PDB_ID_structure_for_CORUM_complex_i = list(PDB_IDs_complex_i_count[PDB_IDs_complex_i_count == len(uniprot_IDs_complex_i)].index)[0]\n",
    "\n",
    "    else:\n",
    "\n",
    "        # check to see if multiple PDB IDs map to all UniProt IDs, then search through those\n",
    "        if sum(PDB_IDs_complex_i_count == len(uniprot_IDs_complex_i)) > 1:\n",
    "\n",
    "            # get PDB IDs that map to all Uniprot IDs\n",
    "            PDB_IDs_mapped_to_complex_i = list(PDB_IDs_complex_i_count[PDB_IDs_complex_i_count == len(uniprot_IDs_complex_i)].index)\n",
    "\n",
    "        # if no PDB ID maps to all UniProt IDs, \n",
    "        # then run a query with all unique PDB IDs that mapped to any UniProt ID and search the resulting PDB IDs to find complex \n",
    "        else:\n",
    "            PDB_IDs_complex_i = list(set(PDB_IDs_complex_i)) # if redundant PDB IDs\n",
    "            PDB_IDs_complex_i = ' '.join(PDB_IDs_complex_i) # convert seperate PDB ids into one string\n",
    "\n",
    "            # use PDB IDs from SIFTS mapping as search terms to find associated complex PDB ID in PDB database\n",
    "            PDB_IDs_mapped_to_complex_i = Query(PDB_IDs_complex_i).search()\n",
    "            \n",
    "        # if query returns an empty list, raise warning\n",
    "        if len(PDB_IDs_mapped_to_complex_i) == 0:\n",
    "            print(f'WARNING: Could not map PDB ID to this CORUM complex ID.')\n",
    "            PDB_ID_structure_for_CORUM_complex_i = None\n",
    "\n",
    "        else:\n",
    "            # iterate through PDB ID & retreive metadata\n",
    "            PDB_protein_count = [] # stores number of polymer proteins for this structure\n",
    "            PDB_deposit_date = [] # store the date of deposit for this structure\n",
    "            for PDB_ID in PDB_IDs_mapped_to_complex_i:\n",
    "\n",
    "                # retreive metadata for this structure from PDB\n",
    "                PDB_structure_all_info = get_info(PDB_ID)\n",
    "                PDB_protein_count.append(PDB_structure_all_info['rcsb_entry_info']['polymer_entity_count_protein'])\n",
    "                PDB_deposit_date.append(pd.to_datetime(PDB_structure_all_info['rcsb_accession_info']['deposit_date']))\n",
    "\n",
    "            # convert CORUM complex i - associated PDB IDs into DataFrame w/ # proteins & resolution\n",
    "            complex_i_PDBs_df = pd.DataFrame(index = PDB_IDs_mapped_to_complex_i)\n",
    "            complex_i_PDBs_df.loc[:,'num_proteins'] = PDB_protein_count\n",
    "            complex_i_PDBs_df.loc[:,'deposit_date'] = PDB_deposit_date\n",
    "\n",
    "            # column for number of proteins in PDB structure different from num proteins listed in CORUM complex\n",
    "            complex_i_PDBs_df.loc[:,'num_proteins_PDB_CORUM_diff'] = abs(complex_i_PDBs_df.num_proteins - num_proteins_CORUM_complex_i)\n",
    "\n",
    "            # pick PDB structure that has same number of proteins/chains as CORUM complex (or matches closest), then rank by most recent deposit date\n",
    "            complex_i_PDBs_df.sort_values(by = ['num_proteins_PDB_CORUM_diff','deposit_date'], ascending = [True, False], inplace = True)\n",
    "            PDB_ID_structure_for_CORUM_complex_i = complex_i_PDBs_df.index[0] # take PDB ID corresponding to top row after ranking\n",
    "            \n",
    "            # print a warning if the number of proteins for PDB ID complex differs from number of subunits in CORUM complex\n",
    "            num_proteins_diff = complex_i_PDBs_df.loc[PDB_ID_structure_for_CORUM_complex_i, 'num_proteins_PDB_CORUM_diff']\n",
    "            if num_proteins_diff != 0:\n",
    "                print(f'WARNING: The number of proteins in PDB ID {PDB_ID_structure_for_CORUM_complex_i} and number of subunits in CORUM complex {Complex_ID} differs by {num_proteins_diff}.')\n",
    "        \n",
    "    return PDB_ID_structure_for_CORUM_complex_i"
   ]
  },
  {
   "cell_type": "code",
   "execution_count": 41,
   "metadata": {},
   "outputs": [
    {
     "name": "stdout",
     "output_type": "stream",
     "text": [
      "WARNING: A0A024R3R1 does not have any corresponding PDB IDs mapped.\n",
      "WARNING: Q5PSV4 does not have any corresponding PDB IDs mapped.\n",
      "WARNING: Q96ST3 does not have any corresponding PDB IDs mapped.\n",
      "WARNING: Q9H0E3 does not have any corresponding PDB IDs mapped.\n",
      "WARNING: Q9H160 does not have any corresponding PDB IDs mapped.\n",
      "WARNING: Q9H7L9 does not have any corresponding PDB IDs mapped.\n",
      "WARNING: The number of proteins in PDB ID: 6WKR and number of subunits in CORUM complex 2851 differs by 2.\n",
      "6WKR\n"
     ]
    }
   ],
   "source": [
    "Corum_DF = getCorum('core', 'Human') # (1) Obtain CORUM complexes\n",
    "PDB_ID_ING2 = CORUM_to_PDB(Corum_DF, 2851) # (2) Get PDB ID for specified protein complex (ING2 complex ID: 2851)\n",
    "print(PDB_ID_ING2)"
   ]
  },
  {
   "cell_type": "code",
   "execution_count": 42,
   "metadata": {},
   "outputs": [
    {
     "name": "stdout",
     "output_type": "stream",
     "text": [
      "6UHC\n"
     ]
    }
   ],
   "source": [
    "PDB_ID_Arp_2_3 = CORUM_to_PDB(Corum_DF, 27) # (2) Get PDB ID for specified protein complex (Arp 2/3 complex ID: 17)\n",
    "print(PDB_ID_Arp_2_3)"
   ]
  },
  {
   "cell_type": "code",
   "execution_count": null,
   "metadata": {},
   "outputs": [],
   "source": []
  },
  {
   "cell_type": "code",
   "execution_count": null,
   "metadata": {},
   "outputs": [],
   "source": []
  },
  {
   "cell_type": "code",
   "execution_count": null,
   "metadata": {},
   "outputs": [],
   "source": []
  },
  {
   "cell_type": "code",
   "execution_count": null,
   "metadata": {},
   "outputs": [],
   "source": []
  },
  {
   "cell_type": "code",
   "execution_count": null,
   "metadata": {},
   "outputs": [],
   "source": [
    "from Bio.PDB import *"
   ]
  },
  {
   "cell_type": "code",
   "execution_count": null,
   "metadata": {},
   "outputs": [],
   "source": [
    "protein_structure_dir = '/n/data1/hms/ccb/lab/projects/bioplex/BioPlexPy/protein_function_testing'"
   ]
  },
  {
   "cell_type": "code",
   "execution_count": null,
   "metadata": {},
   "outputs": [],
   "source": []
  },
  {
   "cell_type": "code",
   "execution_count": null,
   "metadata": {},
   "outputs": [],
   "source": []
  },
  {
   "cell_type": "code",
   "execution_count": 88,
   "metadata": {},
   "outputs": [
    {
     "data": {
      "text/plain": [
       "'6YW6'"
      ]
     },
     "execution_count": 88,
     "metadata": {},
     "output_type": "execute_result"
    }
   ],
   "source": [
    "PDB_ID_structure_for_CORUM_complex_i"
   ]
  },
  {
   "cell_type": "code",
   "execution_count": 83,
   "metadata": {},
   "outputs": [
    {
     "name": "stdout",
     "output_type": "stream",
     "text": [
      "Downloading PDB structure '6YW6'...\n"
     ]
    }
   ],
   "source": [
    "# download structure from PDB\n",
    "pdbl = PDBList()\n",
    "PBD_file_path = pdbl.retrieve_pdb_file(PDB_ID_structure_for_CORUM_complex_i, pdir=protein_structure_dir, file_format='pdb', overwrite=True)\n",
    "\n",
    "# create a structure object\n",
    "parser = PDBParser()\n",
    "structure = parser.get_structure(PDB_ID_structure_for_CORUM_complex_i, PBD_file_path)"
   ]
  },
  {
   "cell_type": "code",
   "execution_count": 176,
   "metadata": {},
   "outputs": [],
   "source": [
    "model = structure[0]\n",
    "chain_IDs = [chain.get_id() for chain in model] # get a list of all chains\n",
    "\n",
    "# we want to test every pair of chains to see if they have any atoms that are < 6 angstroms in distance\n",
    "possible_chain_pairs = list(itertools.combinations(chain_IDs, 2))\n",
    "\n",
    "chain_pairs_direct_interaction = []\n",
    "# iterate through all chain pairs and check to see if any atoms are close\n",
    "for chain_i_id, chain_j_id in possible_chain_pairs:\n",
    "    \n",
    "    # get chain objects from models\n",
    "    chain_i = model[chain_i_id]\n",
    "    chain_j = model[chain_j_id]\n",
    "    \n",
    "    # get all atoms from each chain, 'A' stands for ATOM\n",
    "    atom_list_i = Selection.unfold_entities(chain_i, \"A\")\n",
    "    atom_list_j = Selection.unfold_entities(chain_j, \"A\")\n",
    "    \n",
    "    # iterate through each pair of atoms and break if a pair of atoms < 6 angstroms apart\n",
    "    for atom_i in atom_list_i:\n",
    "        for atom_j in atom_list_j:\n",
    "              \n",
    "            distance = atom_i - atom_j\n",
    "            if distance < 6:\n",
    "                chain_pairs_direct_interaction.append([chain_i_id, chain_j_id])\n",
    "                break # break inner loop\n",
    "        else:\n",
    "            continue # continue if inner loop not broken\n",
    "        break # break outer loop if innter loop is broken"
   ]
  },
  {
   "cell_type": "code",
   "execution_count": null,
   "metadata": {},
   "outputs": [],
   "source": []
  },
  {
   "cell_type": "code",
   "execution_count": 168,
   "metadata": {},
   "outputs": [
    {
     "data": {
      "text/plain": [
       "[('A', 'C'),\n",
       " ('A', 'D'),\n",
       " ('A', 'E'),\n",
       " ('A', 'B'),\n",
       " ('A', 'G'),\n",
       " ('A', 'F'),\n",
       " ('C', 'D'),\n",
       " ('C', 'E'),\n",
       " ('C', 'B'),\n",
       " ('C', 'G'),\n",
       " ('C', 'F'),\n",
       " ('D', 'E'),\n",
       " ('D', 'B'),\n",
       " ('D', 'G'),\n",
       " ('D', 'F'),\n",
       " ('E', 'B'),\n",
       " ('E', 'G'),\n",
       " ('E', 'F'),\n",
       " ('B', 'G'),\n",
       " ('B', 'F'),\n",
       " ('G', 'F')]"
      ]
     },
     "execution_count": 168,
     "metadata": {},
     "output_type": "execute_result"
    }
   ],
   "source": [
    "possible_chain_pairs"
   ]
  },
  {
   "cell_type": "code",
   "execution_count": 177,
   "metadata": {},
   "outputs": [
    {
     "data": {
      "text/plain": [
       "[['A', 'D'],\n",
       " ['A', 'E'],\n",
       " ['A', 'B'],\n",
       " ['A', 'F'],\n",
       " ['C', 'D'],\n",
       " ['C', 'B'],\n",
       " ['C', 'G'],\n",
       " ['C', 'F'],\n",
       " ['D', 'F'],\n",
       " ['B', 'G'],\n",
       " ['B', 'F'],\n",
       " ['G', 'F']]"
      ]
     },
     "execution_count": 177,
     "metadata": {},
     "output_type": "execute_result"
    }
   ],
   "source": [
    "chain_pairs_direct_interaction"
   ]
  },
  {
   "cell_type": "code",
   "execution_count": null,
   "metadata": {},
   "outputs": [],
   "source": []
  },
  {
   "cell_type": "code",
   "execution_count": null,
   "metadata": {},
   "outputs": [],
   "source": []
  },
  {
   "cell_type": "markdown",
   "metadata": {},
   "source": [
    "## TEST CODE"
   ]
  },
  {
   "cell_type": "code",
   "execution_count": null,
   "metadata": {},
   "outputs": [],
   "source": [
    "model = structure[0]\n",
    "\n",
    "for chain_i in model:\n",
    "    for chain_j in model:\n",
    "        if chain_i != chain_j:\n",
    "            \n",
    "            for residue_i in chain_i:\n",
    "                for residue_j in chain_j:\n",
    "                        \n",
    "                        for atom_i in residue_i:\n",
    "                            for atom_j in residue_j:\n",
    "                                distance = atom_i - atom_j\n",
    "                                if distance < 6:\n",
    "                                    print(chain_i, residue_i, atom_i)\n",
    "                                    print(chain_j, residue_j, atom_j)\n",
    "                                    print(distance)\n",
    "                                    print('')"
   ]
  },
  {
   "cell_type": "code",
   "execution_count": 51,
   "metadata": {},
   "outputs": [
    {
     "data": {
      "text/plain": [
       "{'O15143': ['6yw6', '6uhc'],\n",
       " 'O15144': ['6yw7', '6yw6', '6uhc'],\n",
       " 'O15145': ['6yw6', '6uhc', '6yw7'],\n",
       " 'O15511': ['6uhc', '6yw7'],\n",
       " 'P59998': ['6uhc', '6yw6', '6yw7'],\n",
       " 'P61158': ['6yw7', '6uhc', '6yw6'],\n",
       " 'P61160': ['6uhc', '6yw7', '6yw6']}"
      ]
     },
     "execution_count": 51,
     "metadata": {},
     "output_type": "execute_result"
    }
   ],
   "source": [
    "UniProt_to_PDB_map_dict"
   ]
  },
  {
   "cell_type": "code",
   "execution_count": 52,
   "metadata": {},
   "outputs": [
    {
     "data": {
      "text/plain": [
       "['6YW7', '6YW6', '6UHC']"
      ]
     },
     "execution_count": 52,
     "metadata": {},
     "output_type": "execute_result"
    }
   ],
   "source": [
    "complex_i_found_pdbs"
   ]
  },
  {
   "cell_type": "code",
   "execution_count": null,
   "metadata": {},
   "outputs": [],
   "source": []
  },
  {
   "cell_type": "code",
   "execution_count": 91,
   "metadata": {},
   "outputs": [
    {
     "name": "stdout",
     "output_type": "stream",
     "text": [
      "<Residue ARG het=  resseq=4 icode= > <Residue GLY het=  resseq=3 icode= > 3.7895255\n",
      "<Residue LEU het=  resseq=5 icode= > <Residue GLY het=  resseq=3 icode= > 5.899156\n"
     ]
    }
   ],
   "source": [
    "model = structure[0]\n",
    "chain = model['A']\n",
    "\n",
    "# this example uses only the first residue of a single chain.\n",
    "# it is easy to extend this to multiple chains and residues.\n",
    "for residue1 in chain:\n",
    "    for residue2 in chain:\n",
    "        if residue1 != residue2:\n",
    "            # compute distance between CA atoms\n",
    "            try:\n",
    "                distance = residue1['CA'] - residue2['CA']\n",
    "            except KeyError:\n",
    "                ## no CA atom, e.g. for H_NAG\n",
    "                continue\n",
    "            if distance < 6:\n",
    "                print(residue1, residue2, distance)\n",
    "        # stop after first residue\n",
    "        break"
   ]
  },
  {
   "cell_type": "code",
   "execution_count": 47,
   "metadata": {},
   "outputs": [
    {
     "name": "stdout",
     "output_type": "stream",
     "text": [
      "['audit_author', 'citation', 'em3d_fitting', 'em3d_reconstruction', 'em_ctf_correction', 'em_entity_assembly', 'em_experiment', 'em_image_recording', 'em_imaging', 'em_single_particle_entity', 'em_software', 'em_specimen', 'em_vitrification', 'entry', 'exptl', 'pdbx_audit_revision_category', 'pdbx_audit_revision_details', 'pdbx_audit_revision_group', 'pdbx_audit_revision_history', 'pdbx_audit_revision_item', 'pdbx_audit_support', 'pdbx_database_related', 'pdbx_database_status', 'pdbx_vrpt_summary', 'rcsb_accession_info', 'rcsb_entry_container_identifiers', 'rcsb_entry_info', 'rcsb_primary_citation', 'struct', 'struct_keywords', 'rcsb_id', 'rcsb_external_references']\n"
     ]
    }
   ],
   "source": [
    "all_info = get_info('6YW7')\n",
    "print(list(all_info.keys()))"
   ]
  },
  {
   "cell_type": "code",
   "execution_count": 48,
   "metadata": {},
   "outputs": [
    {
     "data": {
      "text/plain": [
       "[{'content_type': 'associated EM volume',\n",
       "  'db_id': 'EMD-10960',\n",
       "  'db_name': 'EMDB',\n",
       "  'details': 'Cryo-EM structure of the ARP2/3 1A5C isoform complex.'}]"
      ]
     },
     "execution_count": 48,
     "metadata": {},
     "output_type": "execute_result"
    }
   ],
   "source": [
    "all_info['pdbx_database_related']"
   ]
  },
  {
   "cell_type": "code",
   "execution_count": 49,
   "metadata": {},
   "outputs": [
    {
     "data": {
      "text/plain": [
       "7"
      ]
     },
     "execution_count": 49,
     "metadata": {},
     "output_type": "execute_result"
    }
   ],
   "source": [
    "all_info['rcsb_entry_info']['polymer_entity_count_protein']"
   ]
  },
  {
   "cell_type": "code",
   "execution_count": 50,
   "metadata": {},
   "outputs": [
    {
     "data": {
      "text/plain": [
       "4.5"
      ]
     },
     "execution_count": 50,
     "metadata": {},
     "output_type": "execute_result"
    }
   ],
   "source": [
    "all_info['rcsb_entry_info']['resolution_combined'][0]"
   ]
  },
  {
   "cell_type": "code",
   "execution_count": 103,
   "metadata": {},
   "outputs": [
    {
     "data": {
      "text/plain": [
       "'2020-07-01T00:00:00+0000'"
      ]
     },
     "execution_count": 103,
     "metadata": {},
     "output_type": "execute_result"
    }
   ],
   "source": [
    "all_info['rcsb_accession_info']['revision_date']"
   ]
  },
  {
   "cell_type": "code",
   "execution_count": null,
   "metadata": {},
   "outputs": [],
   "source": []
  },
  {
   "cell_type": "code",
   "execution_count": null,
   "metadata": {},
   "outputs": [],
   "source": []
  },
  {
   "cell_type": "code",
   "execution_count": 86,
   "metadata": {
    "scrolled": false
   },
   "outputs": [
    {
     "name": "stdout",
     "output_type": "stream",
     "text": [
      "Sending GET request to https://files.rcsb.org/download/6UHC.cif to fetch 6UHC's cif file as a string.\n",
      "data_6UHC\n",
      "# \n",
      "_entry.id   6UHC \n",
      "# \n",
      "_audit_conform.dict_name       mmcif_pdbx.dic \n",
      "_audit_conform.dict_version    5.328 \n",
      "_audit_conform.dict_location   http://mmcif.pdb.org/dictionaries/ascii/mmcif_pdbx.dic \n",
      "# \n",
      "loop_\n",
      "_database_2.database_id \n",
      "_database_2.database_code \n",
      "PDB   6UHC         \n",
      "WWPDB D_1000244501 \n",
      "EMDB  EMD-20770    \n",
      "# \n",
      "_pdbx_database_related.db_name        EMDB \n",
      "_pdbx_database_related.det\n"
     ]
    }
   ],
   "source": [
    "pdb_file = get_pdb_file('6UHC', filetype='cif', compression=False)\n",
    "print(pdb_file[:400])"
   ]
  },
  {
   "cell_type": "code",
   "execution_count": null,
   "metadata": {},
   "outputs": [],
   "source": []
  },
  {
   "cell_type": "code",
   "execution_count": null,
   "metadata": {},
   "outputs": [],
   "source": []
  },
  {
   "cell_type": "code",
   "execution_count": 46,
   "metadata": {},
   "outputs": [],
   "source": []
  },
  {
   "cell_type": "code",
   "execution_count": 88,
   "metadata": {},
   "outputs": [],
   "source": [
    "import requests\n",
    "import re\n",
    "\n",
    "base_url = \"https://www.ebi.ac.uk/pdbe/\"\n",
    "\n",
    "api_base = base_url + \"api/\"\n",
    "\n",
    "uniprot_mapping_url = api_base + 'mappings/uniprot/'"
   ]
  },
  {
   "cell_type": "code",
   "execution_count": 89,
   "metadata": {},
   "outputs": [],
   "source": [
    "def make_request(url, mode, pdb_id):\n",
    "    \"\"\"\n",
    "    This function can make GET and POST requests to\n",
    "    the PDBe API\n",
    "    \n",
    "    :param url: String,\n",
    "    :param mode: String,\n",
    "    :param pdb_id: String\n",
    "    :return: JSON or None\n",
    "    \"\"\"\n",
    "    if mode == \"get\":\n",
    "        response = requests.get(url=url+pdb_id)\n",
    "    elif mode == \"post\":\n",
    "        response = requests.post(url, data=pdb_id)\n",
    "\n",
    "    if response.status_code == 200:\n",
    "        return response.json()\n",
    "    else:\n",
    "        print(\"[No data retrieved - %s] %s\" % (response.status_code, response.text))\n",
    "    \n",
    "    return None"
   ]
  },
  {
   "cell_type": "code",
   "execution_count": 90,
   "metadata": {},
   "outputs": [],
   "source": [
    "def get_mappings_data(pdb_id):\n",
    "    \"\"\"\n",
    "    This function will GET the mappings data from\n",
    "    the PDBe API using the make_request() function\n",
    "    \n",
    "    :param pdb_id: String\n",
    "    :return: JSON\n",
    "    \"\"\"\n",
    "    # Check if the provided PDB id is valid\n",
    "    # There is no point in making an API call\n",
    "    # with bad PDB ids\n",
    "    if not re.match(\"[0-9][A-Za-z][A-Za-z0-9]{2}\", pdb_id):\n",
    "        print(\"Invalid PDB id\")\n",
    "        return None\n",
    "    \n",
    "    # GET the mappings data\n",
    "    mappings_data = make_request(uniprot_mapping_url, \"get\", pdb_id)\n",
    "    \n",
    "    # Check if there is data\n",
    "    if not mappings_data:\n",
    "        print(\"No data found\")\n",
    "        return None\n",
    "    \n",
    "    return mappings_data\n",
    "\n",
    "def list_uniprot_pdb_mappings(pdb_id):\n",
    "    \"\"\"\n",
    "    This function retrieves PDB > UniProt\n",
    "    mappings using the get_mappings_data() function\n",
    "    \n",
    "    :param pdb_id: String,\n",
    "    :return: None\n",
    "    \"\"\"\n",
    "    \n",
    "    # Getting the mappings data\n",
    "    mappings_data = get_mappings_data(pdb_id)\n",
    "    \n",
    "    # If there is no data, return None\n",
    "    if not mappings_data:\n",
    "        return None\n",
    "    \n",
    "    \n",
    "    uniprot = mappings_data[pdb_id][\"UniProt\"]\n",
    "    for uniprot_id in uniprot.keys():\n",
    "        mappings = uniprot[uniprot_id][\"mappings\"]\n",
    "        \n",
    "        for mapping in mappings:\n",
    "            entity_id = mapping[\"entity_id\"]\n",
    "            chain_id = mapping[\"chain_id\"]\n",
    "            pdb_start = mapping[\"start\"][\"residue_number\"]\n",
    "            pdb_end = mapping[\"end\"][\"residue_number\"]\n",
    "            uniprot_start = mapping[\"unp_start\"]\n",
    "            uniprot_end = mapping[\"unp_end\"]\n",
    "            print(\"entity %i in chain %s is indexed from %i to %i in PDB, and from %i to %i in UniProt %s\" % (\n",
    "                entity_id,\n",
    "                chain_id,\n",
    "                pdb_start,\n",
    "                pdb_end,\n",
    "                uniprot_start,\n",
    "                uniprot_end,\n",
    "                uniprot_id\n",
    "                )\n",
    "            )\n",
    "        \n",
    "    return None"
   ]
  },
  {
   "cell_type": "code",
   "execution_count": 92,
   "metadata": {},
   "outputs": [
    {
     "name": "stdout",
     "output_type": "stream",
     "text": [
      "entity 6 in chain F is indexed from 1 to 168 in PDB, and from 1 to 168 in UniProt P59998\n",
      "entity 1 in chain A is indexed from 1 to 418 in PDB, and from 1 to 418 in UniProt P61158\n",
      "entity 2 in chain B is indexed from 1 to 394 in PDB, and from 1 to 394 in UniProt P61160\n",
      "entity 7 in chain G is indexed from 1 to 151 in PDB, and from 1 to 151 in UniProt O15511\n",
      "entity 3 in chain C is indexed from 1 to 372 in PDB, and from 1 to 372 in UniProt O15143\n",
      "entity 4 in chain D is indexed from 1 to 300 in PDB, and from 1 to 300 in UniProt O15144\n",
      "entity 5 in chain E is indexed from 1 to 178 in PDB, and from 1 to 178 in UniProt O15145\n",
      "entity 8 in chain H is indexed from 1 to 501 in PDB, and from 1 to 501 in UniProt Q91YD9\n",
      "entity 8 in chain I is indexed from 1 to 501 in PDB, and from 1 to 501 in UniProt Q91YD9\n"
     ]
    }
   ],
   "source": [
    "list_uniprot_pdb_mappings('6uhc')"
   ]
  },
  {
   "cell_type": "code",
   "execution_count": 93,
   "metadata": {},
   "outputs": [],
   "source": [
    "mappings_data = get_mappings_data('6uhc')"
   ]
  },
  {
   "cell_type": "code",
   "execution_count": 94,
   "metadata": {
    "scrolled": false
   },
   "outputs": [
    {
     "data": {
      "text/plain": [
       "{'6uhc': {'UniProt': {'P59998': {'identifier': 'ARPC4_HUMAN',\n",
       "    'name': 'ARPC4_HUMAN',\n",
       "    'mappings': [{'entity_id': 6,\n",
       "      'end': {'author_residue_number': 168,\n",
       "       'author_insertion_code': '',\n",
       "       'residue_number': 168},\n",
       "      'chain_id': 'F',\n",
       "      'start': {'author_residue_number': None,\n",
       "       'author_insertion_code': '',\n",
       "       'residue_number': 1},\n",
       "      'unp_end': 168,\n",
       "      'unp_start': 1,\n",
       "      'struct_asym_id': 'F'}]},\n",
       "   'P61158': {'identifier': 'ARP3_HUMAN',\n",
       "    'name': 'ARP3_HUMAN',\n",
       "    'mappings': [{'entity_id': 1,\n",
       "      'end': {'author_residue_number': None,\n",
       "       'author_insertion_code': '',\n",
       "       'residue_number': 418},\n",
       "      'chain_id': 'A',\n",
       "      'start': {'author_residue_number': None,\n",
       "       'author_insertion_code': '',\n",
       "       'residue_number': 1},\n",
       "      'unp_end': 418,\n",
       "      'unp_start': 1,\n",
       "      'struct_asym_id': 'A'}]},\n",
       "   'P61160': {'identifier': 'ARP2_HUMAN',\n",
       "    'name': 'ARP2_HUMAN',\n",
       "    'mappings': [{'entity_id': 2,\n",
       "      'end': {'author_residue_number': None,\n",
       "       'author_insertion_code': '',\n",
       "       'residue_number': 394},\n",
       "      'chain_id': 'B',\n",
       "      'start': {'author_residue_number': None,\n",
       "       'author_insertion_code': '',\n",
       "       'residue_number': 1},\n",
       "      'unp_end': 394,\n",
       "      'unp_start': 1,\n",
       "      'struct_asym_id': 'B'}]},\n",
       "   'O15511': {'identifier': 'ARPC5_HUMAN',\n",
       "    'name': 'ARPC5_HUMAN',\n",
       "    'mappings': [{'entity_id': 7,\n",
       "      'end': {'author_residue_number': 151,\n",
       "       'author_insertion_code': '',\n",
       "       'residue_number': 151},\n",
       "      'chain_id': 'G',\n",
       "      'start': {'author_residue_number': None,\n",
       "       'author_insertion_code': '',\n",
       "       'residue_number': 1},\n",
       "      'unp_end': 151,\n",
       "      'unp_start': 1,\n",
       "      'struct_asym_id': 'G'}]},\n",
       "   'O15143': {'identifier': 'ARC1B_HUMAN',\n",
       "    'name': 'ARC1B_HUMAN',\n",
       "    'mappings': [{'entity_id': 3,\n",
       "      'end': {'author_residue_number': 372,\n",
       "       'author_insertion_code': '',\n",
       "       'residue_number': 372},\n",
       "      'chain_id': 'C',\n",
       "      'start': {'author_residue_number': 1,\n",
       "       'author_insertion_code': '',\n",
       "       'residue_number': 1},\n",
       "      'unp_end': 372,\n",
       "      'unp_start': 1,\n",
       "      'struct_asym_id': 'C'}]},\n",
       "   'O15144': {'identifier': 'ARPC2_HUMAN',\n",
       "    'name': 'ARPC2_HUMAN',\n",
       "    'mappings': [{'entity_id': 4,\n",
       "      'end': {'author_residue_number': None,\n",
       "       'author_insertion_code': '',\n",
       "       'residue_number': 300},\n",
       "      'chain_id': 'D',\n",
       "      'start': {'author_residue_number': 1,\n",
       "       'author_insertion_code': '',\n",
       "       'residue_number': 1},\n",
       "      'unp_end': 300,\n",
       "      'unp_start': 1,\n",
       "      'struct_asym_id': 'D'}]},\n",
       "   'O15145': {'identifier': 'ARPC3_HUMAN',\n",
       "    'name': 'ARPC3_HUMAN',\n",
       "    'mappings': [{'entity_id': 5,\n",
       "      'end': {'author_residue_number': None,\n",
       "       'author_insertion_code': '',\n",
       "       'residue_number': 178},\n",
       "      'chain_id': 'E',\n",
       "      'start': {'author_residue_number': None,\n",
       "       'author_insertion_code': '',\n",
       "       'residue_number': 1},\n",
       "      'unp_end': 178,\n",
       "      'unp_start': 1,\n",
       "      'struct_asym_id': 'E'}]},\n",
       "   'Q91YD9': {'identifier': 'WASL_MOUSE',\n",
       "    'name': 'WASL_MOUSE',\n",
       "    'mappings': [{'entity_id': 8,\n",
       "      'end': {'author_residue_number': 501,\n",
       "       'author_insertion_code': '',\n",
       "       'residue_number': 501},\n",
       "      'chain_id': 'H',\n",
       "      'start': {'author_residue_number': None,\n",
       "       'author_insertion_code': '',\n",
       "       'residue_number': 1},\n",
       "      'unp_end': 501,\n",
       "      'unp_start': 1,\n",
       "      'struct_asym_id': 'H'},\n",
       "     {'entity_id': 8,\n",
       "      'end': {'author_residue_number': 501,\n",
       "       'author_insertion_code': '',\n",
       "       'residue_number': 501},\n",
       "      'chain_id': 'I',\n",
       "      'start': {'author_residue_number': None,\n",
       "       'author_insertion_code': '',\n",
       "       'residue_number': 1},\n",
       "      'unp_end': 501,\n",
       "      'unp_start': 1,\n",
       "      'struct_asym_id': 'I'}]}}}}"
      ]
     },
     "execution_count": 94,
     "metadata": {},
     "output_type": "execute_result"
    }
   ],
   "source": [
    "mappings_data"
   ]
  },
  {
   "cell_type": "code",
   "execution_count": null,
   "metadata": {},
   "outputs": [],
   "source": []
  },
  {
   "cell_type": "code",
   "execution_count": null,
   "metadata": {},
   "outputs": [],
   "source": []
  },
  {
   "cell_type": "code",
   "execution_count": null,
   "metadata": {},
   "outputs": [],
   "source": []
  },
  {
   "cell_type": "markdown",
   "metadata": {},
   "source": [
    "## Viewing sandbox"
   ]
  },
  {
   "cell_type": "code",
   "execution_count": 3,
   "metadata": {},
   "outputs": [
    {
     "data": {
      "application/vnd.jupyter.widget-view+json": {
       "model_id": "34baeee2a3e7449ab3055c58c0cd88b4",
       "version_major": 2,
       "version_minor": 0
      },
      "text/plain": []
     },
     "metadata": {},
     "output_type": "display_data"
    }
   ],
   "source": [
    "from Bio.PDB import *\n",
    "import nglview as nv\n",
    "import ipywidgets\n",
    "\n",
    "protein_structure_dir = '/n/data1/hms/ccb/lab/projects/bioplex/BioPlexPy/protein_function_testing'\n",
    "PDB_id = '6PGR'"
   ]
  },
  {
   "cell_type": "code",
   "execution_count": 4,
   "metadata": {},
   "outputs": [
    {
     "name": "stdout",
     "output_type": "stream",
     "text": [
      "Downloading PDB structure '6PGR'...\n",
      "<Residue LEU het=  resseq=14 icode= > <Residue ALA het=  resseq=13 icode= > 3.8256369\n",
      "<Residue ALA het=  resseq=15 icode= > <Residue ALA het=  resseq=13 icode= > 5.2555428\n",
      "<Residue ALA het=  resseq=16 icode= > <Residue ALA het=  resseq=13 icode= > 4.958143\n"
     ]
    },
    {
     "name": "stderr",
     "output_type": "stream",
     "text": [
      "/home/rv76/anaconda2/envs/CCB_BioPlexPy/lib/python3.7/site-packages/Bio/PDB/StructureBuilder.py:92: PDBConstructionWarning: WARNING: Chain A is discontinuous at line 11438.\n",
      "  PDBConstructionWarning,\n",
      "/home/rv76/anaconda2/envs/CCB_BioPlexPy/lib/python3.7/site-packages/Bio/PDB/StructureBuilder.py:92: PDBConstructionWarning: WARNING: Chain B is discontinuous at line 11482.\n",
      "  PDBConstructionWarning,\n",
      "/home/rv76/anaconda2/envs/CCB_BioPlexPy/lib/python3.7/site-packages/Bio/PDB/StructureBuilder.py:92: PDBConstructionWarning: WARNING: Chain A is discontinuous at line 11526.\n",
      "  PDBConstructionWarning,\n",
      "/home/rv76/anaconda2/envs/CCB_BioPlexPy/lib/python3.7/site-packages/Bio/PDB/StructureBuilder.py:92: PDBConstructionWarning: WARNING: Chain B is discontinuous at line 11882.\n",
      "  PDBConstructionWarning,\n"
     ]
    }
   ],
   "source": [
    "# download structure from PDB\n",
    "pdbl = PDBList()\n",
    "PBD_file_path = pdbl.retrieve_pdb_file(PDB_id, pdir=protein_structure_dir, file_format='pdb', overwrite=True)\n",
    "\n",
    "# create a structure object\n",
    "parser = PDBParser()\n",
    "structure = parser.get_structure(PDB_id, PBD_file_path)\n",
    "\n",
    "model = structure[0]\n",
    "chain = model['A']\n",
    "\n",
    "# this example uses only the first residue of a single chain.\n",
    "# it is easy to extend this to multiple chains and residues.\n",
    "for residue1 in chain:\n",
    "    for residue2 in chain:\n",
    "        if residue1 != residue2:\n",
    "            # compute distance between CA atoms\n",
    "            try:\n",
    "                distance = residue1['CA'] - residue2['CA']\n",
    "            except KeyError:\n",
    "                ## no CA atom, e.g. for H_NAG\n",
    "                continue\n",
    "            if distance < 6:\n",
    "                print(residue1, residue2, distance)\n",
    "        # stop after first residue\n",
    "        break"
   ]
  },
  {
   "cell_type": "code",
   "execution_count": 5,
   "metadata": {},
   "outputs": [
    {
     "data": {
      "text/plain": [
       "'/n/data1/hms/ccb/lab/projects/bioplex/BioPlexPy/protein_function_testing/pdb6pgr.ent'"
      ]
     },
     "execution_count": 5,
     "metadata": {},
     "output_type": "execute_result"
    }
   ],
   "source": [
    "PBD_file_path "
   ]
  },
  {
   "cell_type": "code",
   "execution_count": 6,
   "metadata": {},
   "outputs": [
    {
     "data": {
      "application/vnd.jupyter.widget-view+json": {
       "model_id": "56fc81461e32488ba2e4eaba85febebe",
       "version_major": 2,
       "version_minor": 0
      },
      "text/plain": [
       "NGLWidget()"
      ]
     },
     "metadata": {},
     "output_type": "display_data"
    }
   ],
   "source": [
    "view = nv.show_biopython(structure)\n",
    "view"
   ]
  },
  {
   "cell_type": "code",
   "execution_count": 7,
   "metadata": {},
   "outputs": [
    {
     "data": {
      "application/vnd.jupyter.widget-view+json": {
       "model_id": "f5139d65fb9448d9be8b9162bae01117",
       "version_major": 2,
       "version_minor": 0
      },
      "text/plain": [
       "NGLWidget()"
      ]
     },
     "metadata": {},
     "output_type": "display_data"
    }
   ],
   "source": [
    "view = nv.show_pdbid(\"3pqr\")  # load \"3pqr\" from RCSB PDB and display viewer widget\n",
    "view"
   ]
  },
  {
   "cell_type": "code",
   "execution_count": 8,
   "metadata": {},
   "outputs": [
    {
     "name": "stderr",
     "output_type": "stream",
     "text": [
      "WARNING:root:DEPRECATED: Please use 'center' method\n"
     ]
    }
   ],
   "source": [
    "view._remote_call(\"setSize\", target=\"Widget\", args=[\"500px\", \"500px\"])\n",
    "# Center and zoom molecule\n",
    "view.center_view()"
   ]
  },
  {
   "cell_type": "code",
   "execution_count": 9,
   "metadata": {},
   "outputs": [
    {
     "data": {
      "application/vnd.jupyter.widget-view+json": {
       "model_id": "a426e9765b8a40668197a2f28142111e",
       "version_major": 2,
       "version_minor": 0
      },
      "text/plain": [
       "NGLWidget()"
      ]
     },
     "metadata": {},
     "output_type": "display_data"
    }
   ],
   "source": [
    "view"
   ]
  },
  {
   "cell_type": "code",
   "execution_count": 14,
   "metadata": {},
   "outputs": [],
   "source": [
    "view.download_image()"
   ]
  },
  {
   "cell_type": "code",
   "execution_count": 24,
   "metadata": {},
   "outputs": [
    {
     "data": {
      "application/vnd.jupyter.widget-view+json": {
       "model_id": "9c2156494f57454394e2a2053d7bc22e",
       "version_major": 2,
       "version_minor": 0
      },
      "text/plain": [
       "Text(value='hello')"
      ]
     },
     "metadata": {},
     "output_type": "display_data"
    }
   ],
   "source": [
    "import ipywidgets \n",
    "ipywidgets.Text(\"hello\") "
   ]
  },
  {
   "cell_type": "code",
   "execution_count": 25,
   "metadata": {},
   "outputs": [
    {
     "data": {
      "application/vnd.jupyter.widget-view+json": {
       "model_id": "d35f186088cd4ad9827ae23c669f4eba",
       "version_major": 2,
       "version_minor": 0
      },
      "text/plain": [
       "NGLWidget()"
      ]
     },
     "metadata": {},
     "output_type": "display_data"
    }
   ],
   "source": [
    "nv.demo()"
   ]
  },
  {
   "cell_type": "code",
   "execution_count": null,
   "metadata": {},
   "outputs": [],
   "source": []
  },
  {
   "cell_type": "code",
   "execution_count": null,
   "metadata": {},
   "outputs": [],
   "source": []
  },
  {
   "cell_type": "code",
   "execution_count": null,
   "metadata": {},
   "outputs": [],
   "source": []
  }
 ],
 "metadata": {
  "kernelspec": {
   "display_name": "Python [conda env:CCB_BioPlexPy]",
   "language": "python",
   "name": "conda-env-CCB_BioPlexPy-py"
  },
  "language_info": {
   "codemirror_mode": {
    "name": "ipython",
    "version": 3
   },
   "file_extension": ".py",
   "mimetype": "text/x-python",
   "name": "python",
   "nbconvert_exporter": "python",
   "pygments_lexer": "ipython3",
   "version": "3.7.11"
  }
 },
 "nbformat": 4,
 "nbformat_minor": 2
}
