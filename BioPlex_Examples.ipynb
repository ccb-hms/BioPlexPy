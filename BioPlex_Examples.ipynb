{
 "cells": [
  {
   "cell_type": "code",
   "execution_count": 1,
   "metadata": {},
   "outputs": [
    {
     "data": {
      "text/html": [
       "<style>.container { width:100% !important; }</style>"
      ],
      "text/plain": [
       "<IPython.core.display.HTML object>"
      ]
     },
     "metadata": {},
     "output_type": "display_data"
    }
   ],
   "source": [
    "from IPython.core.display import display, HTML\n",
    "display(HTML(\"<style>.container { width:100% !important; }</style>\"))"
   ]
  },
  {
   "cell_type": "markdown",
   "metadata": {},
   "source": [
    "**Description** - Exmaples on how to use BioPlexPy"
   ]
  },
  {
   "cell_type": "markdown",
   "metadata": {},
   "source": [
    "Import Functions"
   ]
  },
  {
   "cell_type": "code",
   "execution_count": 2,
   "metadata": {},
   "outputs": [
    {
     "name": "stderr",
     "output_type": "stream",
     "text": [
      "/home/rv76/anaconda2/envs/CCB_BioPlexPy/lib/python3.7/site-packages/anndata/core/anndata.py:17: FutureWarning: pandas.core.index is deprecated and will be removed in a future version.  The public classes are available in the top-level namespace.\n",
      "  from pandas.core.index import RangeIndex\n"
     ]
    }
   ],
   "source": [
    "# import functions from module\n",
    "from BioPlexPy.helper_funcs import getBioPlex\n",
    "from BioPlexPy.helper_funcs import getGSE122425\n",
    "from BioPlexPy.helper_funcs import bioplex2graph\n",
    "from BioPlexPy.helper_funcs import getCorum"
   ]
  },
  {
   "cell_type": "markdown",
   "metadata": {},
   "source": [
    "## [1] *Function* to retrieve interactions data"
   ]
  },
  {
   "cell_type": "code",
   "execution_count": 3,
   "metadata": {},
   "outputs": [],
   "source": [
    "bp_293t = getBioPlex('293T', '2.0')"
   ]
  },
  {
   "cell_type": "code",
   "execution_count": 4,
   "metadata": {},
   "outputs": [
    {
     "data": {
      "text/html": [
       "<div>\n",
       "<style scoped>\n",
       "    .dataframe tbody tr th:only-of-type {\n",
       "        vertical-align: middle;\n",
       "    }\n",
       "\n",
       "    .dataframe tbody tr th {\n",
       "        vertical-align: top;\n",
       "    }\n",
       "\n",
       "    .dataframe thead th {\n",
       "        text-align: right;\n",
       "    }\n",
       "</style>\n",
       "<table border=\"1\" class=\"dataframe\">\n",
       "  <thead>\n",
       "    <tr style=\"text-align: right;\">\n",
       "      <th></th>\n",
       "      <th>GeneA</th>\n",
       "      <th>GeneB</th>\n",
       "      <th>UniprotA</th>\n",
       "      <th>UniprotB</th>\n",
       "      <th>SymbolA</th>\n",
       "      <th>SymbolB</th>\n",
       "      <th>pW</th>\n",
       "      <th>pNI</th>\n",
       "      <th>pInt</th>\n",
       "    </tr>\n",
       "  </thead>\n",
       "  <tbody>\n",
       "    <tr>\n",
       "      <th>0</th>\n",
       "      <td>100</td>\n",
       "      <td>728378</td>\n",
       "      <td>P00813</td>\n",
       "      <td>A5A3E0</td>\n",
       "      <td>ADA</td>\n",
       "      <td>POTEF</td>\n",
       "      <td>2.380858e-09</td>\n",
       "      <td>3.318559e-04</td>\n",
       "      <td>0.999668</td>\n",
       "    </tr>\n",
       "    <tr>\n",
       "      <th>1</th>\n",
       "      <td>100</td>\n",
       "      <td>345651</td>\n",
       "      <td>P00813</td>\n",
       "      <td>Q562R1</td>\n",
       "      <td>ADA</td>\n",
       "      <td>ACTBL2</td>\n",
       "      <td>9.786437e-18</td>\n",
       "      <td>2.119144e-01</td>\n",
       "      <td>0.788086</td>\n",
       "    </tr>\n",
       "    <tr>\n",
       "      <th>2</th>\n",
       "      <td>222389</td>\n",
       "      <td>708</td>\n",
       "      <td>Q8N7W2</td>\n",
       "      <td>Q07021</td>\n",
       "      <td>BEND7</td>\n",
       "      <td>C1QBP</td>\n",
       "      <td>2.962215e-17</td>\n",
       "      <td>5.644512e-03</td>\n",
       "      <td>0.994355</td>\n",
       "    </tr>\n",
       "    <tr>\n",
       "      <th>3</th>\n",
       "      <td>222389</td>\n",
       "      <td>4038</td>\n",
       "      <td>Q8N7W2</td>\n",
       "      <td>O75096</td>\n",
       "      <td>BEND7</td>\n",
       "      <td>LRP4</td>\n",
       "      <td>3.302994e-10</td>\n",
       "      <td>2.802596e-04</td>\n",
       "      <td>0.999720</td>\n",
       "    </tr>\n",
       "    <tr>\n",
       "      <th>4</th>\n",
       "      <td>645121</td>\n",
       "      <td>3312</td>\n",
       "      <td>Q6ZMN8</td>\n",
       "      <td>P11142</td>\n",
       "      <td>CCNI2</td>\n",
       "      <td>HSPA8</td>\n",
       "      <td>2.060285e-16</td>\n",
       "      <td>3.623477e-02</td>\n",
       "      <td>0.963765</td>\n",
       "    </tr>\n",
       "    <tr>\n",
       "      <th>...</th>\n",
       "      <td>...</td>\n",
       "      <td>...</td>\n",
       "      <td>...</td>\n",
       "      <td>...</td>\n",
       "      <td>...</td>\n",
       "      <td>...</td>\n",
       "      <td>...</td>\n",
       "      <td>...</td>\n",
       "      <td>...</td>\n",
       "    </tr>\n",
       "    <tr>\n",
       "      <th>56548</th>\n",
       "      <td>652968</td>\n",
       "      <td>729438</td>\n",
       "      <td>Q8WTX7</td>\n",
       "      <td>A6NHX0</td>\n",
       "      <td>GATSL3</td>\n",
       "      <td>GATSL2</td>\n",
       "      <td>5.801810e-09</td>\n",
       "      <td>2.783396e-09</td>\n",
       "      <td>1.000000</td>\n",
       "    </tr>\n",
       "    <tr>\n",
       "      <th>56549</th>\n",
       "      <td>652968</td>\n",
       "      <td>54468</td>\n",
       "      <td>Q8WTX7</td>\n",
       "      <td>Q9NXC5</td>\n",
       "      <td>GATSL3</td>\n",
       "      <td>MIOS</td>\n",
       "      <td>1.016003e-08</td>\n",
       "      <td>2.169769e-05</td>\n",
       "      <td>0.999978</td>\n",
       "    </tr>\n",
       "    <tr>\n",
       "      <th>56550</th>\n",
       "      <td>652968</td>\n",
       "      <td>79726</td>\n",
       "      <td>Q8WTX7</td>\n",
       "      <td>Q6PJI9</td>\n",
       "      <td>GATSL3</td>\n",
       "      <td>WDR59</td>\n",
       "      <td>6.225445e-16</td>\n",
       "      <td>1.575947e-02</td>\n",
       "      <td>0.984241</td>\n",
       "    </tr>\n",
       "    <tr>\n",
       "      <th>56551</th>\n",
       "      <td>652968</td>\n",
       "      <td>84219</td>\n",
       "      <td>Q8WTX7</td>\n",
       "      <td>Q96S15-2</td>\n",
       "      <td>GATSL3</td>\n",
       "      <td>WDR24</td>\n",
       "      <td>1.084232e-10</td>\n",
       "      <td>8.419503e-06</td>\n",
       "      <td>0.999992</td>\n",
       "    </tr>\n",
       "    <tr>\n",
       "      <th>56552</th>\n",
       "      <td>652968</td>\n",
       "      <td>51101</td>\n",
       "      <td>Q8WTX7</td>\n",
       "      <td>Q96GY0</td>\n",
       "      <td>GATSL3</td>\n",
       "      <td>FAM164A</td>\n",
       "      <td>1.117494e-10</td>\n",
       "      <td>1.340739e-09</td>\n",
       "      <td>1.000000</td>\n",
       "    </tr>\n",
       "  </tbody>\n",
       "</table>\n",
       "<p>56553 rows × 9 columns</p>\n",
       "</div>"
      ],
      "text/plain": [
       "        GeneA   GeneB UniprotA  UniprotB SymbolA  SymbolB            pW  \\\n",
       "0         100  728378   P00813    A5A3E0     ADA    POTEF  2.380858e-09   \n",
       "1         100  345651   P00813    Q562R1     ADA   ACTBL2  9.786437e-18   \n",
       "2      222389     708   Q8N7W2    Q07021   BEND7    C1QBP  2.962215e-17   \n",
       "3      222389    4038   Q8N7W2    O75096   BEND7     LRP4  3.302994e-10   \n",
       "4      645121    3312   Q6ZMN8    P11142   CCNI2    HSPA8  2.060285e-16   \n",
       "...       ...     ...      ...       ...     ...      ...           ...   \n",
       "56548  652968  729438   Q8WTX7    A6NHX0  GATSL3   GATSL2  5.801810e-09   \n",
       "56549  652968   54468   Q8WTX7    Q9NXC5  GATSL3     MIOS  1.016003e-08   \n",
       "56550  652968   79726   Q8WTX7    Q6PJI9  GATSL3    WDR59  6.225445e-16   \n",
       "56551  652968   84219   Q8WTX7  Q96S15-2  GATSL3    WDR24  1.084232e-10   \n",
       "56552  652968   51101   Q8WTX7    Q96GY0  GATSL3  FAM164A  1.117494e-10   \n",
       "\n",
       "                pNI      pInt  \n",
       "0      3.318559e-04  0.999668  \n",
       "1      2.119144e-01  0.788086  \n",
       "2      5.644512e-03  0.994355  \n",
       "3      2.802596e-04  0.999720  \n",
       "4      3.623477e-02  0.963765  \n",
       "...             ...       ...  \n",
       "56548  2.783396e-09  1.000000  \n",
       "56549  2.169769e-05  0.999978  \n",
       "56550  1.575947e-02  0.984241  \n",
       "56551  8.419503e-06  0.999992  \n",
       "56552  1.340739e-09  1.000000  \n",
       "\n",
       "[56553 rows x 9 columns]"
      ]
     },
     "execution_count": 4,
     "metadata": {},
     "output_type": "execute_result"
    }
   ],
   "source": [
    "bp_293t"
   ]
  },
  {
   "cell_type": "code",
   "execution_count": 6,
   "metadata": {},
   "outputs": [],
   "source": [
    "bp_hct116 = getBioPlex('HCT116', '1.0')"
   ]
  },
  {
   "cell_type": "code",
   "execution_count": 7,
   "metadata": {},
   "outputs": [
    {
     "data": {
      "text/html": [
       "<div>\n",
       "<style scoped>\n",
       "    .dataframe tbody tr th:only-of-type {\n",
       "        vertical-align: middle;\n",
       "    }\n",
       "\n",
       "    .dataframe tbody tr th {\n",
       "        vertical-align: top;\n",
       "    }\n",
       "\n",
       "    .dataframe thead th {\n",
       "        text-align: right;\n",
       "    }\n",
       "</style>\n",
       "<table border=\"1\" class=\"dataframe\">\n",
       "  <thead>\n",
       "    <tr style=\"text-align: right;\">\n",
       "      <th></th>\n",
       "      <th>GeneA</th>\n",
       "      <th>GeneB</th>\n",
       "      <th>UniprotA</th>\n",
       "      <th>UniprotB</th>\n",
       "      <th>SymbolA</th>\n",
       "      <th>SymbolB</th>\n",
       "      <th>pW</th>\n",
       "      <th>pNI</th>\n",
       "      <th>pInt</th>\n",
       "    </tr>\n",
       "  </thead>\n",
       "  <tbody>\n",
       "    <tr>\n",
       "      <th>0</th>\n",
       "      <td>88455</td>\n",
       "      <td>50649</td>\n",
       "      <td>Q8IZ07</td>\n",
       "      <td>Q9NR80-4</td>\n",
       "      <td>ANKRD13A</td>\n",
       "      <td>ARHGEF4</td>\n",
       "      <td>3.959215e-04</td>\n",
       "      <td>0.000033</td>\n",
       "      <td>0.999571</td>\n",
       "    </tr>\n",
       "    <tr>\n",
       "      <th>1</th>\n",
       "      <td>88455</td>\n",
       "      <td>115106</td>\n",
       "      <td>Q8IZ07</td>\n",
       "      <td>Q96CS2</td>\n",
       "      <td>ANKRD13A</td>\n",
       "      <td>HAUS1</td>\n",
       "      <td>4.488473e-02</td>\n",
       "      <td>0.001935</td>\n",
       "      <td>0.953181</td>\n",
       "    </tr>\n",
       "    <tr>\n",
       "      <th>2</th>\n",
       "      <td>88455</td>\n",
       "      <td>23086</td>\n",
       "      <td>Q8IZ07</td>\n",
       "      <td>Q8NEV8-2</td>\n",
       "      <td>ANKRD13A</td>\n",
       "      <td>EXPH5</td>\n",
       "      <td>7.402394e-05</td>\n",
       "      <td>0.000930</td>\n",
       "      <td>0.998996</td>\n",
       "    </tr>\n",
       "    <tr>\n",
       "      <th>3</th>\n",
       "      <td>88455</td>\n",
       "      <td>54930</td>\n",
       "      <td>Q8IZ07</td>\n",
       "      <td>Q9H6D7</td>\n",
       "      <td>ANKRD13A</td>\n",
       "      <td>HAUS4</td>\n",
       "      <td>9.180959e-07</td>\n",
       "      <td>0.000128</td>\n",
       "      <td>0.999871</td>\n",
       "    </tr>\n",
       "    <tr>\n",
       "      <th>4</th>\n",
       "      <td>88455</td>\n",
       "      <td>79441</td>\n",
       "      <td>Q8IZ07</td>\n",
       "      <td>Q68CZ6</td>\n",
       "      <td>ANKRD13A</td>\n",
       "      <td>HAUS3</td>\n",
       "      <td>8.709394e-07</td>\n",
       "      <td>0.001495</td>\n",
       "      <td>0.998504</td>\n",
       "    </tr>\n",
       "    <tr>\n",
       "      <th>...</th>\n",
       "      <td>...</td>\n",
       "      <td>...</td>\n",
       "      <td>...</td>\n",
       "      <td>...</td>\n",
       "      <td>...</td>\n",
       "      <td>...</td>\n",
       "      <td>...</td>\n",
       "      <td>...</td>\n",
       "      <td>...</td>\n",
       "    </tr>\n",
       "    <tr>\n",
       "      <th>70961</th>\n",
       "      <td>55118</td>\n",
       "      <td>100509631</td>\n",
       "      <td>Q9NQ79-2</td>\n",
       "      <td>F5H8C6</td>\n",
       "      <td>CRTAC1</td>\n",
       "      <td>LOC100509631</td>\n",
       "      <td>1.619493e-01</td>\n",
       "      <td>0.003972</td>\n",
       "      <td>0.834079</td>\n",
       "    </tr>\n",
       "    <tr>\n",
       "      <th>70962</th>\n",
       "      <td>1813</td>\n",
       "      <td>2177</td>\n",
       "      <td>P14416-3</td>\n",
       "      <td>Q9BXW9-2</td>\n",
       "      <td>DRD2</td>\n",
       "      <td>FANCD2</td>\n",
       "      <td>1.538024e-04</td>\n",
       "      <td>0.174397</td>\n",
       "      <td>0.825449</td>\n",
       "    </tr>\n",
       "    <tr>\n",
       "      <th>70963</th>\n",
       "      <td>1813</td>\n",
       "      <td>22870</td>\n",
       "      <td>P14416-3</td>\n",
       "      <td>Q9UPN7</td>\n",
       "      <td>DRD2</td>\n",
       "      <td>PPP6R1</td>\n",
       "      <td>1.464248e-08</td>\n",
       "      <td>0.072449</td>\n",
       "      <td>0.927551</td>\n",
       "    </tr>\n",
       "    <tr>\n",
       "      <th>70964</th>\n",
       "      <td>1813</td>\n",
       "      <td>23243</td>\n",
       "      <td>P14416-3</td>\n",
       "      <td>O15084-1</td>\n",
       "      <td>DRD2</td>\n",
       "      <td>ANKRD28</td>\n",
       "      <td>2.105728e-04</td>\n",
       "      <td>0.202417</td>\n",
       "      <td>0.797373</td>\n",
       "    </tr>\n",
       "    <tr>\n",
       "      <th>70965</th>\n",
       "      <td>1910</td>\n",
       "      <td>57038</td>\n",
       "      <td>P24530-3</td>\n",
       "      <td>Q5T160</td>\n",
       "      <td>EDNRB</td>\n",
       "      <td>RARS2</td>\n",
       "      <td>1.006970e-01</td>\n",
       "      <td>0.079565</td>\n",
       "      <td>0.819738</td>\n",
       "    </tr>\n",
       "  </tbody>\n",
       "</table>\n",
       "<p>70966 rows × 9 columns</p>\n",
       "</div>"
      ],
      "text/plain": [
       "       GeneA      GeneB  UniprotA  UniprotB   SymbolA       SymbolB  \\\n",
       "0      88455      50649    Q8IZ07  Q9NR80-4  ANKRD13A       ARHGEF4   \n",
       "1      88455     115106    Q8IZ07    Q96CS2  ANKRD13A         HAUS1   \n",
       "2      88455      23086    Q8IZ07  Q8NEV8-2  ANKRD13A         EXPH5   \n",
       "3      88455      54930    Q8IZ07    Q9H6D7  ANKRD13A         HAUS4   \n",
       "4      88455      79441    Q8IZ07    Q68CZ6  ANKRD13A         HAUS3   \n",
       "...      ...        ...       ...       ...       ...           ...   \n",
       "70961  55118  100509631  Q9NQ79-2    F5H8C6    CRTAC1  LOC100509631   \n",
       "70962   1813       2177  P14416-3  Q9BXW9-2      DRD2        FANCD2   \n",
       "70963   1813      22870  P14416-3    Q9UPN7      DRD2        PPP6R1   \n",
       "70964   1813      23243  P14416-3  O15084-1      DRD2       ANKRD28   \n",
       "70965   1910      57038  P24530-3    Q5T160     EDNRB         RARS2   \n",
       "\n",
       "                 pW       pNI      pInt  \n",
       "0      3.959215e-04  0.000033  0.999571  \n",
       "1      4.488473e-02  0.001935  0.953181  \n",
       "2      7.402394e-05  0.000930  0.998996  \n",
       "3      9.180959e-07  0.000128  0.999871  \n",
       "4      8.709394e-07  0.001495  0.998504  \n",
       "...             ...       ...       ...  \n",
       "70961  1.619493e-01  0.003972  0.834079  \n",
       "70962  1.538024e-04  0.174397  0.825449  \n",
       "70963  1.464248e-08  0.072449  0.927551  \n",
       "70964  2.105728e-04  0.202417  0.797373  \n",
       "70965  1.006970e-01  0.079565  0.819738  \n",
       "\n",
       "[70966 rows x 9 columns]"
      ]
     },
     "execution_count": 7,
     "metadata": {},
     "output_type": "execute_result"
    }
   ],
   "source": [
    "bp_hct116"
   ]
  },
  {
   "cell_type": "markdown",
   "metadata": {},
   "source": [
    "## [2] *Function* to retrieve HEK293 RNAseq expression data"
   ]
  },
  {
   "cell_type": "code",
   "execution_count": 8,
   "metadata": {},
   "outputs": [],
   "source": [
    "HEK293_adata = getGSE122425()"
   ]
  },
  {
   "cell_type": "code",
   "execution_count": 9,
   "metadata": {},
   "outputs": [
    {
     "data": {
      "text/plain": [
       "AnnData object with n_obs × n_vars = 57905 × 6 \n",
       "    obs: 'SYMBOL', 'KO', 'GO', 'length'\n",
       "    layers: 'rpkm'"
      ]
     },
     "execution_count": 9,
     "metadata": {},
     "output_type": "execute_result"
    }
   ],
   "source": [
    "HEK293_adata"
   ]
  },
  {
   "cell_type": "markdown",
   "metadata": {},
   "source": [
    "rows (observations)"
   ]
  },
  {
   "cell_type": "code",
   "execution_count": 10,
   "metadata": {},
   "outputs": [
    {
     "name": "stdout",
     "output_type": "stream",
     "text": [
      "['ENSG00000223972', 'ENSG00000227232', 'ENSG00000243485', 'ENSG00000237613', 'ENSG00000268020', 'ENSG00000240361', 'ENSG00000186092', 'ENSG00000238009', 'ENSG00000239945', 'ENSG00000233750']\n"
     ]
    }
   ],
   "source": [
    "print(HEK293_adata.obs_names[:10].tolist())"
   ]
  },
  {
   "cell_type": "markdown",
   "metadata": {},
   "source": [
    "columns (variables)"
   ]
  },
  {
   "cell_type": "code",
   "execution_count": 11,
   "metadata": {},
   "outputs": [
    {
     "name": "stdout",
     "output_type": "stream",
     "text": [
      "['NK.1', 'NK.2', 'NK.3', 'WT.1', 'WT.2', 'WT.3']\n"
     ]
    }
   ],
   "source": [
    "print(HEK293_adata.var_names.tolist())"
   ]
  },
  {
   "cell_type": "markdown",
   "metadata": {},
   "source": [
    "matrix w/ counts"
   ]
  },
  {
   "cell_type": "code",
   "execution_count": 12,
   "metadata": {},
   "outputs": [
    {
     "name": "stdout",
     "output_type": "stream",
     "text": [
      "[[   0    0    2    1    2    2]\n",
      " [ 705  812 1121  732  690  804]\n",
      " [   0    0    0    0    0    2]\n",
      " ...\n",
      " [   0    0    0    0    0    0]\n",
      " [   0    0    0    0    0    0]\n",
      " [   0    0    0    0    0    0]]\n"
     ]
    }
   ],
   "source": [
    "print(HEK293_adata.X)"
   ]
  },
  {
   "cell_type": "markdown",
   "metadata": {},
   "source": [
    "matrix w/ rpkm"
   ]
  },
  {
   "cell_type": "code",
   "execution_count": 13,
   "metadata": {},
   "outputs": [
    {
     "name": "stdout",
     "output_type": "stream",
     "text": [
      "[[0.   0.   0.01 0.01 0.01 0.01]\n",
      " [4.77 5.21 6.8  5.43 5.07 5.39]\n",
      " [0.   0.   0.   0.   0.   0.04]\n",
      " ...\n",
      " [0.   0.   0.   0.   0.   0.  ]\n",
      " [0.   0.   0.   0.   0.   0.  ]\n",
      " [0.   0.   0.   0.   0.   0.  ]]\n"
     ]
    }
   ],
   "source": [
    "print(HEK293_adata.layers[\"rpkm\"])"
   ]
  },
  {
   "cell_type": "markdown",
   "metadata": {},
   "source": [
    "## [3] *Function* to convert BioPlex PPIs into a graph data structure"
   ]
  },
  {
   "cell_type": "code",
   "execution_count": 14,
   "metadata": {},
   "outputs": [],
   "source": [
    "bp_293t_df = getBioPlex('293T', '3.0')\n",
    "bp_293t_G = bioplex2graph(bp_293t_df)"
   ]
  },
  {
   "cell_type": "markdown",
   "metadata": {},
   "source": [
    "construct network from list of edges, then iterate to add attributes (check runtime)"
   ]
  },
  {
   "cell_type": "markdown",
   "metadata": {},
   "source": [
    "Nodes"
   ]
  },
  {
   "cell_type": "code",
   "execution_count": 15,
   "metadata": {},
   "outputs": [
    {
     "data": {
      "text/plain": [
       "13689"
      ]
     },
     "execution_count": 15,
     "metadata": {},
     "output_type": "execute_result"
    }
   ],
   "source": [
    "len(bp_293t_G.nodes()) # number of nodes"
   ]
  },
  {
   "cell_type": "code",
   "execution_count": 16,
   "metadata": {
    "scrolled": true
   },
   "outputs": [
    {
     "data": {
      "text/plain": [
       "['P00813', 'A5A3E0', 'Q8N7W2', 'P26373', 'Q09028']"
      ]
     },
     "execution_count": 16,
     "metadata": {},
     "output_type": "execute_result"
    }
   ],
   "source": [
    "list(bp_293t_G.nodes())[0:5]"
   ]
  },
  {
   "cell_type": "code",
   "execution_count": 17,
   "metadata": {},
   "outputs": [
    {
     "data": {
      "text/plain": [
       "{'entrezid': 100, 'symbol': 'ADA', 'isoform': 'P00813'}"
      ]
     },
     "execution_count": 17,
     "metadata": {},
     "output_type": "execute_result"
    }
   ],
   "source": [
    "bp_293t_G.nodes['P00813']"
   ]
  },
  {
   "cell_type": "code",
   "execution_count": 18,
   "metadata": {},
   "outputs": [
    {
     "data": {
      "text/plain": [
       "{'entrezid': 222389, 'symbol': 'BEND7', 'isoform': 'Q8N7W2-2'}"
      ]
     },
     "execution_count": 18,
     "metadata": {},
     "output_type": "execute_result"
    }
   ],
   "source": [
    "bp_293t_G.nodes['Q8N7W2']"
   ]
  },
  {
   "cell_type": "markdown",
   "metadata": {},
   "source": [
    "Edges"
   ]
  },
  {
   "cell_type": "code",
   "execution_count": 19,
   "metadata": {
    "scrolled": true
   },
   "outputs": [
    {
     "data": {
      "text/plain": [
       "115868"
      ]
     },
     "execution_count": 19,
     "metadata": {},
     "output_type": "execute_result"
    }
   ],
   "source": [
    "len(bp_293t_G.edges()) # number of edges"
   ]
  },
  {
   "cell_type": "code",
   "execution_count": 20,
   "metadata": {},
   "outputs": [
    {
     "data": {
      "text/plain": [
       "[('P00813', 'A5A3E0'),\n",
       " ('Q8N7W2', 'P26373'),\n",
       " ('Q8N7W2', 'Q09028'),\n",
       " ('Q8N7W2', 'Q9Y3U8'),\n",
       " ('Q8N7W2', 'P36578')]"
      ]
     },
     "execution_count": 20,
     "metadata": {},
     "output_type": "execute_result"
    }
   ],
   "source": [
    "list(bp_293t_G.edges())[0:5]"
   ]
  },
  {
   "cell_type": "code",
   "execution_count": 21,
   "metadata": {},
   "outputs": [
    {
     "data": {
      "text/plain": [
       "{'pW': 6.881843799526549e-10,\n",
       " 'pNI': 0.000117635665707004,\n",
       " 'pInt': 0.9998823636461089}"
      ]
     },
     "execution_count": 21,
     "metadata": {},
     "output_type": "execute_result"
    }
   ],
   "source": [
    "bp_293t_G.get_edge_data('P00813', 'A5A3E0')"
   ]
  },
  {
   "cell_type": "markdown",
   "metadata": {},
   "source": [
    "Algorithms on Network"
   ]
  },
  {
   "cell_type": "markdown",
   "metadata": {},
   "source": [
    "pagerank"
   ]
  },
  {
   "cell_type": "code",
   "execution_count": 22,
   "metadata": {},
   "outputs": [],
   "source": [
    "pr = nx.pagerank(bp_293t_G, alpha=0.8)\n",
    "pr = pd.Series(pr)\n",
    "pr.sort_values(ascending = False, inplace = True)"
   ]
  },
  {
   "cell_type": "code",
   "execution_count": 23,
   "metadata": {},
   "outputs": [
    {
     "data": {
      "text/plain": [
       "P11142    0.002610\n",
       "P11021    0.002168\n",
       "Q04917    0.001840\n",
       "O14556    0.001527\n",
       "P0CG47    0.001471\n",
       "            ...   \n",
       "Q8TB92    0.000039\n",
       "P07355    0.000039\n",
       "Q53F39    0.000039\n",
       "Q96HL8    0.000039\n",
       "P00813    0.000039\n",
       "Length: 13689, dtype: float64"
      ]
     },
     "execution_count": 23,
     "metadata": {},
     "output_type": "execute_result"
    }
   ],
   "source": [
    "pr"
   ]
  },
  {
   "cell_type": "markdown",
   "metadata": {},
   "source": [
    "## [4] *Function* to retrieve CORUM complex data"
   ]
  },
  {
   "cell_type": "code",
   "execution_count": 24,
   "metadata": {},
   "outputs": [],
   "source": [
    "Corum_DF = getCorum('core', 'Human')"
   ]
  },
  {
   "cell_type": "code",
   "execution_count": 25,
   "metadata": {},
   "outputs": [
    {
     "data": {
      "text/html": [
       "<div>\n",
       "<style scoped>\n",
       "    .dataframe tbody tr th:only-of-type {\n",
       "        vertical-align: middle;\n",
       "    }\n",
       "\n",
       "    .dataframe tbody tr th {\n",
       "        vertical-align: top;\n",
       "    }\n",
       "\n",
       "    .dataframe thead th {\n",
       "        text-align: right;\n",
       "    }\n",
       "</style>\n",
       "<table border=\"1\" class=\"dataframe\">\n",
       "  <thead>\n",
       "    <tr style=\"text-align: right;\">\n",
       "      <th></th>\n",
       "      <th>ComplexID</th>\n",
       "      <th>ComplexName</th>\n",
       "      <th>Organism</th>\n",
       "      <th>Synonyms</th>\n",
       "      <th>Cell line</th>\n",
       "      <th>subunits(UniProt IDs)</th>\n",
       "      <th>subunits(Entrez IDs)</th>\n",
       "      <th>Protein complex purification method</th>\n",
       "      <th>GO ID</th>\n",
       "      <th>GO description</th>\n",
       "      <th>FunCat ID</th>\n",
       "      <th>FunCat description</th>\n",
       "      <th>subunits(Gene name syn)</th>\n",
       "      <th>Complex comment</th>\n",
       "      <th>Disease comment</th>\n",
       "      <th>SWISSPROT organism</th>\n",
       "      <th>Subunits comment</th>\n",
       "      <th>subunits(Gene name)</th>\n",
       "      <th>PubMed ID</th>\n",
       "      <th>subunits(Protein name)</th>\n",
       "    </tr>\n",
       "  </thead>\n",
       "  <tbody>\n",
       "    <tr>\n",
       "      <th>0</th>\n",
       "      <td>1</td>\n",
       "      <td>BCL6-HDAC4 complex</td>\n",
       "      <td>Human</td>\n",
       "      <td>None</td>\n",
       "      <td>None</td>\n",
       "      <td>P41182;P56524</td>\n",
       "      <td>604;9759</td>\n",
       "      <td>MI:0007-anti tag coimmunoprecipitation</td>\n",
       "      <td>GO:0006265;GO:0045892;GO:0051276;GO:0030183;GO...</td>\n",
       "      <td>DNA topological change;negative regulation of ...</td>\n",
       "      <td>10.01.09.05;11.02.03.04.03;42.10.03;43.03.07.0...</td>\n",
       "      <td>DNA conformation modification (e.g. chromatin)...</td>\n",
       "      <td>BCL5 LAZ3 ZBTB27 ZNF51;KIAA0288</td>\n",
       "      <td>Transcriptional repression by BCL6 is thought ...</td>\n",
       "      <td>None</td>\n",
       "      <td>Homo sapiens (Human);Homo sapiens (Human)</td>\n",
       "      <td>None</td>\n",
       "      <td>BCL6;HDAC4</td>\n",
       "      <td>11929873</td>\n",
       "      <td>B-cell lymphoma 6 protein;Histone deacetylase 4</td>\n",
       "    </tr>\n",
       "    <tr>\n",
       "      <th>1</th>\n",
       "      <td>2</td>\n",
       "      <td>BCL6-HDAC5 complex</td>\n",
       "      <td>Human</td>\n",
       "      <td>None</td>\n",
       "      <td>None</td>\n",
       "      <td>P41182;Q9UQL6</td>\n",
       "      <td>604;10014</td>\n",
       "      <td>MI:0007-anti tag coimmunoprecipitation</td>\n",
       "      <td>GO:0006265;GO:0045892;GO:0051276;GO:0030183;GO...</td>\n",
       "      <td>DNA topological change;negative regulation of ...</td>\n",
       "      <td>10.01.09.05;11.02.03.04.03;42.10.03;43.03.07.0...</td>\n",
       "      <td>DNA conformation modification (e.g. chromatin)...</td>\n",
       "      <td>BCL5 LAZ3 ZBTB27 ZNF51;KIAA0600</td>\n",
       "      <td>Transcriptional repression by BCL6 is thought ...</td>\n",
       "      <td>None</td>\n",
       "      <td>Homo sapiens (Human);Homo sapiens (Human)</td>\n",
       "      <td>None</td>\n",
       "      <td>BCL6;HDAC5</td>\n",
       "      <td>11929873</td>\n",
       "      <td>B-cell lymphoma 6 protein;Histone deacetylase 5</td>\n",
       "    </tr>\n",
       "    <tr>\n",
       "      <th>2</th>\n",
       "      <td>3</td>\n",
       "      <td>BCL6-HDAC7 complex</td>\n",
       "      <td>Human</td>\n",
       "      <td>None</td>\n",
       "      <td>None</td>\n",
       "      <td>P41182;Q8WUI4</td>\n",
       "      <td>604;51564</td>\n",
       "      <td>MI:0007-anti tag coimmunoprecipitation</td>\n",
       "      <td>GO:0006265;GO:0045892;GO:0051276;GO:0030183;GO...</td>\n",
       "      <td>DNA topological change;negative regulation of ...</td>\n",
       "      <td>10.01.09.05;11.02.03.04.03;42.10.03;43.03.07.0...</td>\n",
       "      <td>DNA conformation modification (e.g. chromatin)...</td>\n",
       "      <td>BCL5 LAZ3 ZBTB27 ZNF51;HDAC7A</td>\n",
       "      <td>Transcriptional repression by BCL6 is thought ...</td>\n",
       "      <td>None</td>\n",
       "      <td>Homo sapiens (Human);Homo sapiens (Human)</td>\n",
       "      <td>None</td>\n",
       "      <td>BCL6;HDAC7</td>\n",
       "      <td>11929873</td>\n",
       "      <td>B-cell lymphoma 6 protein;Histone deacetylase 7</td>\n",
       "    </tr>\n",
       "    <tr>\n",
       "      <th>3</th>\n",
       "      <td>4</td>\n",
       "      <td>Multisubunit ACTR coactivator complex</td>\n",
       "      <td>Human</td>\n",
       "      <td>None</td>\n",
       "      <td>None</td>\n",
       "      <td>Q09472;Q92793;Q92831;Q9Y6Q9</td>\n",
       "      <td>2033;1387;8850;8202</td>\n",
       "      <td>MI:0004-affinity chromatography technologies;M...</td>\n",
       "      <td>GO:0045893;GO:0023052;GO:0005634</td>\n",
       "      <td>positive regulation of transcription, DNA-temp...</td>\n",
       "      <td>11.02.03.04.01;30.01;70.10</td>\n",
       "      <td>transcription activation;cellular signalling;n...</td>\n",
       "      <td>P300;CBP;PCAF;AIB1, BHLHE42, RAC3, TRAM1, ACTR</td>\n",
       "      <td>Cofactor ACTR binds directly nuclear receptors...</td>\n",
       "      <td>None</td>\n",
       "      <td>Homo sapiens (Human);Homo sapiens (Human);Homo...</td>\n",
       "      <td>None</td>\n",
       "      <td>EP300;CREBBP;KAT2B;NCOA3</td>\n",
       "      <td>9267036</td>\n",
       "      <td>Histone acetyltransferase p300;CREB-binding pr...</td>\n",
       "    </tr>\n",
       "    <tr>\n",
       "      <th>4</th>\n",
       "      <td>11</td>\n",
       "      <td>BLOC-3 (biogenesis of lysosome-related organel...</td>\n",
       "      <td>Human</td>\n",
       "      <td>None</td>\n",
       "      <td>None</td>\n",
       "      <td>Q92902;Q9NQG7</td>\n",
       "      <td>3257;89781</td>\n",
       "      <td>MI:0019- coimmunoprecipitation; MI:0029- cosed...</td>\n",
       "      <td>GO:0007032;GO:0007040;GO:0007033</td>\n",
       "      <td>endosome organization;lysosome organization;va...</td>\n",
       "      <td>42.22;42.25</td>\n",
       "      <td>endosome;vacuole or lysosome</td>\n",
       "      <td>HPS;KIAA1667</td>\n",
       "      <td>The results suggest that HPS1 and HPS4 are com...</td>\n",
       "      <td>HPS1-7 are involved in Hermansky-Pudlak syndro...</td>\n",
       "      <td>Homo sapiens (Human);Homo sapiens (Human)</td>\n",
       "      <td>None</td>\n",
       "      <td>HPS1;HPS4</td>\n",
       "      <td>12847290</td>\n",
       "      <td>Hermansky-Pudlak syndrome 1 protein;Hermansky-...</td>\n",
       "    </tr>\n",
       "  </tbody>\n",
       "</table>\n",
       "</div>"
      ],
      "text/plain": [
       "   ComplexID                                        ComplexName Organism  \\\n",
       "0          1                                 BCL6-HDAC4 complex    Human   \n",
       "1          2                                 BCL6-HDAC5 complex    Human   \n",
       "2          3                                 BCL6-HDAC7 complex    Human   \n",
       "3          4              Multisubunit ACTR coactivator complex    Human   \n",
       "4         11  BLOC-3 (biogenesis of lysosome-related organel...    Human   \n",
       "\n",
       "  Synonyms Cell line        subunits(UniProt IDs) subunits(Entrez IDs)  \\\n",
       "0     None      None                P41182;P56524             604;9759   \n",
       "1     None      None                P41182;Q9UQL6            604;10014   \n",
       "2     None      None                P41182;Q8WUI4            604;51564   \n",
       "3     None      None  Q09472;Q92793;Q92831;Q9Y6Q9  2033;1387;8850;8202   \n",
       "4     None      None                Q92902;Q9NQG7           3257;89781   \n",
       "\n",
       "                 Protein complex purification method  \\\n",
       "0             MI:0007-anti tag coimmunoprecipitation   \n",
       "1             MI:0007-anti tag coimmunoprecipitation   \n",
       "2             MI:0007-anti tag coimmunoprecipitation   \n",
       "3  MI:0004-affinity chromatography technologies;M...   \n",
       "4  MI:0019- coimmunoprecipitation; MI:0029- cosed...   \n",
       "\n",
       "                                               GO ID  \\\n",
       "0  GO:0006265;GO:0045892;GO:0051276;GO:0030183;GO...   \n",
       "1  GO:0006265;GO:0045892;GO:0051276;GO:0030183;GO...   \n",
       "2  GO:0006265;GO:0045892;GO:0051276;GO:0030183;GO...   \n",
       "3                   GO:0045893;GO:0023052;GO:0005634   \n",
       "4                   GO:0007032;GO:0007040;GO:0007033   \n",
       "\n",
       "                                      GO description  \\\n",
       "0  DNA topological change;negative regulation of ...   \n",
       "1  DNA topological change;negative regulation of ...   \n",
       "2  DNA topological change;negative regulation of ...   \n",
       "3  positive regulation of transcription, DNA-temp...   \n",
       "4  endosome organization;lysosome organization;va...   \n",
       "\n",
       "                                           FunCat ID  \\\n",
       "0  10.01.09.05;11.02.03.04.03;42.10.03;43.03.07.0...   \n",
       "1  10.01.09.05;11.02.03.04.03;42.10.03;43.03.07.0...   \n",
       "2  10.01.09.05;11.02.03.04.03;42.10.03;43.03.07.0...   \n",
       "3                         11.02.03.04.01;30.01;70.10   \n",
       "4                                        42.22;42.25   \n",
       "\n",
       "                                  FunCat description  \\\n",
       "0  DNA conformation modification (e.g. chromatin)...   \n",
       "1  DNA conformation modification (e.g. chromatin)...   \n",
       "2  DNA conformation modification (e.g. chromatin)...   \n",
       "3  transcription activation;cellular signalling;n...   \n",
       "4                       endosome;vacuole or lysosome   \n",
       "\n",
       "                          subunits(Gene name syn)  \\\n",
       "0                 BCL5 LAZ3 ZBTB27 ZNF51;KIAA0288   \n",
       "1                 BCL5 LAZ3 ZBTB27 ZNF51;KIAA0600   \n",
       "2                   BCL5 LAZ3 ZBTB27 ZNF51;HDAC7A   \n",
       "3  P300;CBP;PCAF;AIB1, BHLHE42, RAC3, TRAM1, ACTR   \n",
       "4                                    HPS;KIAA1667   \n",
       "\n",
       "                                     Complex comment  \\\n",
       "0  Transcriptional repression by BCL6 is thought ...   \n",
       "1  Transcriptional repression by BCL6 is thought ...   \n",
       "2  Transcriptional repression by BCL6 is thought ...   \n",
       "3  Cofactor ACTR binds directly nuclear receptors...   \n",
       "4  The results suggest that HPS1 and HPS4 are com...   \n",
       "\n",
       "                                     Disease comment  \\\n",
       "0                                               None   \n",
       "1                                               None   \n",
       "2                                               None   \n",
       "3                                               None   \n",
       "4  HPS1-7 are involved in Hermansky-Pudlak syndro...   \n",
       "\n",
       "                                  SWISSPROT organism Subunits comment  \\\n",
       "0          Homo sapiens (Human);Homo sapiens (Human)             None   \n",
       "1          Homo sapiens (Human);Homo sapiens (Human)             None   \n",
       "2          Homo sapiens (Human);Homo sapiens (Human)             None   \n",
       "3  Homo sapiens (Human);Homo sapiens (Human);Homo...             None   \n",
       "4          Homo sapiens (Human);Homo sapiens (Human)             None   \n",
       "\n",
       "        subunits(Gene name)  PubMed ID  \\\n",
       "0                BCL6;HDAC4   11929873   \n",
       "1                BCL6;HDAC5   11929873   \n",
       "2                BCL6;HDAC7   11929873   \n",
       "3  EP300;CREBBP;KAT2B;NCOA3    9267036   \n",
       "4                 HPS1;HPS4   12847290   \n",
       "\n",
       "                              subunits(Protein name)  \n",
       "0    B-cell lymphoma 6 protein;Histone deacetylase 4  \n",
       "1    B-cell lymphoma 6 protein;Histone deacetylase 5  \n",
       "2    B-cell lymphoma 6 protein;Histone deacetylase 7  \n",
       "3  Histone acetyltransferase p300;CREB-binding pr...  \n",
       "4  Hermansky-Pudlak syndrome 1 protein;Hermansky-...  "
      ]
     },
     "execution_count": 25,
     "metadata": {},
     "output_type": "execute_result"
    }
   ],
   "source": [
    "Corum_DF.head()"
   ]
  },
  {
   "cell_type": "code",
   "execution_count": 46,
   "metadata": {},
   "outputs": [
    {
     "data": {
      "text/plain": [
       "(2417, 20)"
      ]
     },
     "execution_count": 46,
     "metadata": {},
     "output_type": "execute_result"
    }
   ],
   "source": [
    "Corum_DF.shape"
   ]
  },
  {
   "cell_type": "code",
   "execution_count": null,
   "metadata": {},
   "outputs": [],
   "source": []
  }
 ],
 "metadata": {
  "kernelspec": {
   "display_name": "Python [conda env:CCB_BioPlexPy]",
   "language": "python",
   "name": "conda-env-CCB_BioPlexPy-py"
  },
  "language_info": {
   "codemirror_mode": {
    "name": "ipython",
    "version": 3
   },
   "file_extension": ".py",
   "mimetype": "text/x-python",
   "name": "python",
   "nbconvert_exporter": "python",
   "pygments_lexer": "ipython3",
   "version": "3.7.11"
  }
 },
 "nbformat": 4,
 "nbformat_minor": 2
}
